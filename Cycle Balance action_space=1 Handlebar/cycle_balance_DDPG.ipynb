{
 "cells": [
  {
   "cell_type": "code",
   "execution_count": 1,
   "id": "requested-blame",
   "metadata": {},
   "outputs": [],
   "source": [
    "import gym\n",
    "import numpy as np\n",
    "import matplotlib.pyplot as plt\n",
    "%matplotlib inline\n",
    "import pybullet as p\n",
    "import pybullet_data\n",
    "import time\n",
    "import random\n",
    "import cv2\n",
    "from decimal import Decimal\n",
    "import tensorflow as tf\n",
    "tf.compat.v1.disable_eager_execution()"
   ]
  },
  {
   "cell_type": "code",
   "execution_count": 5,
   "id": "considered-haven",
   "metadata": {},
   "outputs": [],
   "source": [
    "# Bicycle and its environment\n",
    "\n",
    "#del env\n",
    "cv2.destroyAllWindows()\n",
    "\n",
    "class CycleBalancingEnv(gym.Env):\n",
    "    metadata = {'render.modes': ['human']}  \n",
    "  \n",
    "    def __init__(self):\n",
    "        # Out cycle has only 2 action spaces i.e. Torque of the wheels and the position of the handlebar\n",
    "        self.action_space = gym.spaces.box.Box(\n",
    "            low=-1 * np.ones(1, dtype=np.float32),\n",
    "            high=1 * np.ones(1, dtype=np.float32))\n",
    "        # Obervation space\n",
    "        self.observation_space = gym.spaces.box.Box(\n",
    "            low=-1 * np.ones(24, dtype=np.float32),\n",
    "            high=1 * np.ones(24, dtype=np.float32))\n",
    "        self.np_random, _ = gym.utils.seeding.np_random()\n",
    "\n",
    "        if not p.isConnected():\n",
    "            self.client = p.connect(p.GUI)\n",
    "        else:\n",
    "            self.client = 1\n",
    "        #self.client = p.connect(p.SHARED_MEMORY)        \n",
    "        #self.client = p.connect(p.DIRECT)\n",
    "        \n",
    "        self.n_target = 400\n",
    "        self.min_target_dist = 10\n",
    "        self.target_span = 80\n",
    "        self.sphere_dist = 1.5\n",
    "        self.pole = []\n",
    "        p.resetSimulation(self.client)\n",
    "        p.setRealTimeSimulation(0)\n",
    "        p.setAdditionalSearchPath(pybullet_data.getDataPath())\n",
    "        self.plane=p.loadURDF(\"plane.urdf\",[0,0,0], useFixedBase=True)\n",
    "        self.bike = 0\n",
    "        self.angle_span = 20\n",
    "        self.n_episodes = 0\n",
    "        \n",
    "        self.make_obstacles()\n",
    "        self.reset()\n",
    "        #self.show_img()\n",
    "        \n",
    "    def show_img(self):\n",
    "        \n",
    "        self.img = np.zeros((800,800,3), dtype='float32')\n",
    "        shift = 400\n",
    "        multiply = 400\n",
    "        ls = p.getBasePositionAndOrientation(self.bike)\n",
    "        bike_x = ls[0][0]\n",
    "        bike_y = ls[0][1]\n",
    "        handlebar_rotation = p.getEulerFromQuaternion( p.getLinkState(self.bike, 0)[1] )[2]\n",
    "        mini = 1000\n",
    "        for deg in range(1, 361, 1):\n",
    "            mini = min(mini, self.dist[deg-1])\n",
    "            if deg%self.angle_span==0:\n",
    "                rad = Decimal( Decimal(deg * np.pi/180 + handlebar_rotation)%Decimal(2*np.pi) + Decimal(2*np.pi))%Decimal(2*np.pi)\n",
    "                rad = float(rad)\n",
    "                #p.removeBody(self.sphere[cnt])\n",
    "                #self.sphere[cnt] = p.loadURDF('sphere_small.urdf', [bike_x + self.sphere_dist*np.cos(rad), bike_y + self.sphere_dist*np.sin(rad), 1], [0,0,0,1])\n",
    "                #cnt += 1\n",
    "                start = (int(shift + bike_x + self.sphere_dist*np.cos(rad)), int(shift + bike_y + self.sphere_dist*np.sin(rad)))\n",
    "                end = (int(shift + bike_x + mini*multiply*np.cos(rad)), int(shift + bike_y + mini*multiply*np.sin(rad)))\n",
    "                #cv2.line(self.img, start, end, (0,0,255), 10)\n",
    "                cv2.ellipse(self.img, start, (int(mini*multiply),int(mini*multiply)), 0, (rad*180/np.pi)-self.angle_span, (rad*180/np.pi), (0,0,255), -1)\n",
    "                mini = 1000\n",
    "            \n",
    "        #cv2.destroyAllWindows()\n",
    "        cv2.imshow('img', cv2.rotate(cv2.transpose(self.img), cv2.ROTATE_180))\n",
    "        #cv2.imshow('img', self.img)\n",
    "        cv2.waitKey(1)\n",
    "        #cv2.destroyAllWindows()\n",
    "\n",
    "    def step(self, action):\n",
    "        \n",
    "        p.setJointMotorControl2(self.bike, 0, p.POSITION_CONTROL, targetPosition=action[0], maxVelocity=5) # Apply Position control to Handlebar\n",
    "        for i in range(3):\n",
    "            p.setJointMotorControl2(self.bike,1,p.TORQUE_CONTROL , force=(3+0)*10000) # Apply Toruqe to Back Wheel\n",
    "            p.setJointMotorControl2(self.bike,2,p.TORQUE_CONTROL , force=(3+0)*10000) # Apply Toruqe to Front Wheel\n",
    "            ls = p.getBasePositionAndOrientation(self.bike) # ls[0]=Postion of cycle, ls[1] = Orientation of cycle\n",
    "            val = p.getEulerFromQuaternion(ls[1])[0] - 1.57 # Calculating inclination of cycle from vertical\n",
    "            p.applyExternalTorque(self.bike, -1, [-1000000*val, 0, 0], flags=p.WORLD_FRAME)\n",
    "            p.stepSimulation()\n",
    "        \n",
    "        #p.applyExternalTorque(self.bike, -1, [-1000000*val, 0, 0], flags=p.WORLD_FRAME)\n",
    "        \n",
    "        #p.applyExternalTorque(self.bike, -1, [-20000*action[2], 0, 0], flags=p.LINK_FRAME)\n",
    "        #p.setJointMotorControl2(self.bike, 3, p.POSITION_CONTROL, targetPosition=action[2], maxVelocity=100)\n",
    "        #ls_tmp = p.getLinkState(self.bike, 3)\n",
    "        #p.applyExternalForce(self.bike, 3, [0,0,10000], ls_tmp[2], p.LINK_FRAME)\n",
    "        \n",
    "#         ls = p.getBasePositionAndOrientation(self.bike) # ls[0]=Postion of cycle, ls[1] = Orientation of cycle\n",
    "#         val = p.getEulerFromQuaternion(ls[1])[0] - 1.57 # Calculating inclination of cycle from vertical\n",
    "# #         reward_1 = (abs(val)) * -1 # Calculae reward based on the angle of inclination\n",
    "        \n",
    "#         p.applyExternalTorque(self.bike, -1, [-1000000*val, 0, 0], flags=p.WORLD_FRAME)\n",
    "        \n",
    "        \n",
    "            #p.stepSimulation()\n",
    "        \n",
    "#         if abs(val)>1:\n",
    "#             reward_1 = (abs(val)) * -10\n",
    "#         if abs(val)>1: # Terminate the episode if the angle of inclination from vertical is greater than 1.2 radian i.e 70 degree \n",
    "#             self.done=True\n",
    "#             reward_1 = -200\n",
    "            \n",
    "        tmp = ls[0]\n",
    "        self.bike_x = tmp[0]\n",
    "        self.bike_y = tmp[1]\n",
    "        \n",
    "        # Calculating the position, orientation, velocity of all the joints of the cycle\n",
    "        obs = []\n",
    "#         for i in range(p.getNumJoints(self.bike)):\n",
    "#             ls = p.getLinkState(self.bike, i, computeLinkVelocity=1, computeForwardKinematics=1)\n",
    "#             for x in ls:\n",
    "#                 for val in x:\n",
    "#                     obs.append(val)\n",
    "        ls = p.getBasePositionAndOrientation(self.bike)\n",
    "        obs += ls[0] + p.getEulerFromQuaternion(ls[1])\n",
    "        \n",
    "        bike_x = ls[0][0]\n",
    "        bike_y = ls[0][1]\n",
    "        reward_2 = 0\n",
    "        #cnt = 0\n",
    "        ray_from = []\n",
    "        ray_to = []\n",
    "        handlebar_rotation = p.getEulerFromQuaternion( p.getLinkState(self.bike, 0)[1] )[2]\n",
    "        for deg in range(1, 361, 1):\n",
    "            rad = Decimal( Decimal(deg * np.pi/180 + handlebar_rotation)%Decimal(2*np.pi) + Decimal(2*np.pi))%Decimal(2*np.pi)\n",
    "            rad = float(rad)\n",
    "            #p.removeBody(self.sphere[cnt])\n",
    "            #self.sphere[cnt] = p.loadURDF('sphere_small.urdf', [bike_x + self.sphere_dist*np.cos(rad), bike_y + self.sphere_dist*np.sin(rad), 1], [0,0,0,1])\n",
    "            #cnt += 1\n",
    "            ray_from.append((bike_x + self.sphere_dist*np.cos(rad), bike_y + self.sphere_dist*np.sin(rad), 1))\n",
    "            ray_to.append((bike_x + 50*np.cos(rad), bike_y + 50*np.sin(rad), 1))\n",
    "        \n",
    "        rays = p.rayTestBatch(ray_from, ray_to)\n",
    "        mini = 1000\n",
    "        self.dist = []\n",
    "        mini = 1000\n",
    "        assert(len(rays)==360)\n",
    "        minimum = 1000\n",
    "        for deg in range(1, 361, 1):\n",
    "            tmp = rays[deg-1]\n",
    "            dist = tmp[2]\n",
    "            minimum = min(minimum, dist)\n",
    "            if dist<mini:\n",
    "                mini = dist\n",
    "            self.dist.append(dist)\n",
    "            if deg%self.angle_span==0:\n",
    "                obs.append(mini)\n",
    "                mini = 1000\n",
    "    \n",
    "        tmp = p.getContactPoints(self.bike)\n",
    "        for i in range(len(tmp)):\n",
    "            if tmp[i][2]!=0:\n",
    "                reward_2 = -100\n",
    "                self.done = True\n",
    "        \n",
    "        self.time += 1 # Adding 1 to the time for which the current episode has been running\n",
    "        \n",
    "        # Terminating the episode if the cycle covers less than 1 units distance in 200 timesteps\n",
    "        dist_2 = np.sqrt((self.bike_x)**2 + abs(self.bike_y)**2)\n",
    "        if self.time%10==0 and dist_2>self.distance: self.distance = dist_2\n",
    "        \n",
    "        value = p.getEulerFromQuaternion(p.getLinkState(self.bike, 0)[1])[2] - p.getEulerFromQuaternion(ls[1])[2]\n",
    "        if value<-1: value += 2*np.pi\n",
    "        if value>1: value -= 2*np.pi\n",
    "        #print(value)\n",
    "        if value < -0.5:\n",
    "            self.left += 0.1\n",
    "            self.right = 0\n",
    "        elif value > 0.5:\n",
    "            self.left = 0\n",
    "            self.right += 0.1\n",
    "        else:\n",
    "            self.left = 0\n",
    "            self.right = 0\n",
    "            \n",
    "        self.neg_reward = 0\n",
    "        if self.left>10 or self.right>10:\n",
    "            print(\"Slow!!!\")\n",
    "            self.neg_reward = -100\n",
    "            self.done = True\n",
    "            \n",
    "        if self.done:\n",
    "            print(self.left, self.right, dist_2)\n",
    "            \n",
    "            \n",
    "        # Terminating the episode if the cycle is more than 80units distance from the origin\n",
    "        val = self.target_span\n",
    "        reward_1 = 0\n",
    "        if dist_2 > self.target_dist:\n",
    "            reward_1 = 100 + self.target_reward\n",
    "            self.target_dist += 10\n",
    "            self.target_reward = min(500, self.target_reward*2)\n",
    "            \n",
    "        self.completed = 0\n",
    "        if dist_2 > val:\n",
    "            self.completed = 1\n",
    "            self.done = True\n",
    "            self.make_obstacles()\n",
    "        \n",
    "        # Calculating the total reward\n",
    "        reward = reward_1 + reward_2 + max(-10, (dist_2-self.distance)) + self.time/1000 + self.neg_reward - self.left - self.right # - (1/(minimum+0.01))/10 # - abs(action[0])\n",
    "        #print(mini, end=\" \")\n",
    "        \n",
    "#         obs.append(self.time)\n",
    "#         obs.append(self.cnt)\n",
    "#         obs.append(self.left)\n",
    "#         obs.append(self.right)\n",
    "#         obs.append(action[0])\n",
    "#         obs.append(dist_2)\n",
    "#         obs.append(self.distance)\n",
    "\n",
    "        obs = np.array(obs, dtype=np.float32)\n",
    "        obs[0] /= self.target_span\n",
    "        obs[1] /= self.target_span\n",
    "        #print(obs.shape)\n",
    "        \n",
    "#         if self.time%50==10:\n",
    "#             for deg in range(-90, 90, 5):\n",
    "#                 rad = deg * np.pi/180 + p.getEulerFromQuaternion( p.getLinkState(self.bike, 0)[1] )[2] + 2*np.pi\n",
    "#                 self.sphere.append(p.loadURDF('sphere_small.urdf', [bike_x + (self.sphere_dist+1*rad)*np.cos(rad), bike_y + (self.sphere_dist+1*rad)*np.sin(rad), 1], [0,0,0,1], useFixedBase=True, globalScaling=(deg+90)/10))\n",
    "#             #time.sleep(5.0)\n",
    "#         if self.time%50==40 or self.done:\n",
    "#             for i in self.sphere:\n",
    "#                 p.removeBody(i)\n",
    "#             #time.sleep(5.0)\n",
    "\n",
    "#         if self.time%10==0 and not self.done:\n",
    "#             self.show_img()\n",
    "\n",
    "        return obs, reward/100, self.done, dict()\n",
    "\n",
    "\n",
    "    def reset(self):\n",
    "        \n",
    "        self.n_episodes += 1\n",
    "        if self.n_episodes==20:\n",
    "            self.make_obstacles()\n",
    "            self.n_episodes = 0\n",
    "        \n",
    "        #p.resetSimulation(self.client)\n",
    "        #p.setRealTimeSimulation(0)\n",
    "        #p.setAdditionalSearchPath(pybullet_data.getDataPath())\n",
    "        \n",
    "        # Loading the plane\n",
    "        #self.plane=p.loadURDF(\"plane.urdf\",[0,0,0], useFixedBase=True)\n",
    "        \n",
    "        if self.bike!=0:\n",
    "            p.removeBody(self.bike)\n",
    "        # Loading the cycle\n",
    "        self.bike_x = 0 # random.randint(-5, 5) # X position of the cycle\n",
    "        self.bike_y = 0 # random.randint(-5, 5) # Y position of the cycle\n",
    "        self.bike=p.loadURDF(\"../bike_2.urdf.xml\",[self.bike_x, self.bike_y,1], p.getQuaternionFromEuler([0,0, random.random()*2*np.pi]),  useFixedBase=False)\n",
    "            \n",
    "        # Loading the target\n",
    "#         self.pole = []\n",
    "#         for i in range(self.n_target):\n",
    "#             target_x = self.bike_x\n",
    "#             target_y = self.bike_y\n",
    "#             while (np.sqrt( (self.bike_x - target_x)**2 + (self.bike_y - target_y)**2 )) < self.min_target_dist:\n",
    "#                 target_x = random.randint(int(self.bike_x) - self.target_span, int(self.bike_x) + self.target_span)\n",
    "#                 target_y = random.randint(int(self.bike_y) - self.target_span, int(self.bike_y) + self.target_span)\n",
    "#             self.pole.append( p.loadURDF(\"cube.urdf\",[target_x, target_y, 1], [0,0,0,1], useFixedBase=True, globalScaling=3.0) )\n",
    "        \n",
    "        # Adding friction and other dynamics\n",
    "        p.changeDynamics(self.plane, -1, lateralFriction=5, angularDamping=1)\n",
    "        p.changeDynamics(self.bike, 1, mass=100)\n",
    "        #p.changeDynamics(self.bike, 2, mass=100, lateralFriction=1, angularDamping=3, rollingFriction=0.01)\n",
    "        p.changeDynamics(self.bike, -1, lateralFriction=5, angularDamping=1)\n",
    "        \n",
    "        p.setGravity(0, 0, -250) # Setting the gravity\n",
    "        #p.setRealTimeSimulation(0)\n",
    "        self.done=False\n",
    "        self.time = 0\n",
    "        self.distance = np.sqrt((self.bike_x)**2 + abs(self.bike_y)**2)\n",
    "        self.neg_reward = 0\n",
    "        \n",
    "        # Calculating the initial observation space\n",
    "        obs = []\n",
    "#         for i in range(p.getNumJoints(self.bike)):\n",
    "#             ls = p.getLinkState(self.bike, i, computeLinkVelocity=1, computeForwardKinematics=1)\n",
    "#             for x in ls:\n",
    "#                 for val in x:\n",
    "#                     obs.append(val)\n",
    "        ls = p.getBasePositionAndOrientation(self.bike)\n",
    "        obs += ls[0] + p.getEulerFromQuaternion(ls[1])\n",
    "        \n",
    "        bike_x = ls[0][0]\n",
    "        bike_y = ls[0][1]\n",
    "        self.sphere = []\n",
    "        mini = 1000\n",
    "        handlebar_rotation = p.getEulerFromQuaternion( p.getLinkState(self.bike, 0)[1] )[2]\n",
    "        for deg in range(1, 361, 1):\n",
    "            rad = Decimal( Decimal(deg * np.pi/180 + handlebar_rotation)%Decimal(2*np.pi) + Decimal(2*np.pi))%Decimal(2*np.pi)\n",
    "            rad = float(rad)\n",
    "            #p.loadURDF('sphere_small.urdf', [bike_x + self.sphere_dist*np.cos(rad), bike_y + self.sphere_dist*np.sin(rad), 1], [0,0,0,1])\n",
    "            #p.loadURDF('sphere_small.urdf', [bike_x + (self.sphere_dist+1*rad)*np.cos(rad), bike_y + (self.sphere_dist+1*rad)*np.sin(rad), 1], [0,0,0,1], useFixedBase=True, globalScaling=deg/10)\n",
    "            #p.loadURDF('sphere_small.urdf', [bike_x + 10*np.cos(rad), bike_y + 10*np.sin(rad), 1], [0,0,0,1])\n",
    "            tmp = p.rayTest((bike_x + self.sphere_dist*np.cos(rad), bike_y + self.sphere_dist*np.sin(rad), 1), (bike_x + 50*np.cos(rad), bike_y + 50*np.sin(rad), 1))[0]\n",
    "            dist = tmp[2]\n",
    "            if dist<mini:\n",
    "                mini = dist\n",
    "                angle = rad\n",
    "            if deg%self.angle_span==0:\n",
    "                obs.append(mini)\n",
    "                mini = 1000\n",
    "        \n",
    "        self.cnt = 0\n",
    "        self.left = 0\n",
    "        self.right = 0\n",
    "        self.target_dist = 10\n",
    "        self.target_reward = 32\n",
    "        self.completed = 0\n",
    "#         obs.append(self.time)\n",
    "#         obs.append(self.cnt)\n",
    "#         obs.append(self.left)\n",
    "#         obs.append(self.right)\n",
    "#         obs.append(0)\n",
    "#         obs.append(0)\n",
    "#         obs.append(self.distance)\n",
    "        \n",
    "        obs = np.array(obs, dtype=np.float32)\n",
    "        obs[0] /= self.target_span\n",
    "        obs[1] /= self.target_span\n",
    "        return obs\n",
    "\n",
    "    def make_obstacles(self):\n",
    "        \n",
    "        p.resetSimulation(self.client)\n",
    "        p.setRealTimeSimulation(0)\n",
    "        p.setAdditionalSearchPath(pybullet_data.getDataPath())\n",
    "        self.plane=p.loadURDF(\"plane.urdf\",[0,0,0], useFixedBase=True)\n",
    "        self.bike = 0\n",
    "        \n",
    "#         for i in self.pole:\n",
    "#             p.removeBody(i)\n",
    "            \n",
    "        self.bike_x = 0\n",
    "        self.bike_y = 0\n",
    "        self.pole = []\n",
    "        for i in range(self.n_target):\n",
    "            target_x = self.bike_x\n",
    "            target_y = self.bike_y\n",
    "            while (np.sqrt( (self.bike_x - target_x)**2 + (self.bike_y - target_y)**2 )) < self.min_target_dist:\n",
    "                target_x = random.randint(int(self.bike_x) - self.target_span, int(self.bike_x) + self.target_span)\n",
    "                target_y = random.randint(int(self.bike_y) - self.target_span, int(self.bike_y) + self.target_span)\n",
    "            self.pole.append( p.loadURDF(\"cube.urdf\",[target_x, target_y, 1], [0,0,0,1], useFixedBase=True, globalScaling=1.0) )\n",
    "        \n",
    "    def render(self, mode='human'):\n",
    "            \n",
    "        #p.stepSimulation()\n",
    "        \n",
    "        distance=5\n",
    "        yaw = 0\n",
    "        humanPos, humanOrn = p.getBasePositionAndOrientation(self.bike)\n",
    "        humanBaseVel = p.getBaseVelocity(self.bike)\n",
    "        #print(\"frame\",frame, \"humanPos=\",humanPos, \"humanVel=\",humanBaseVel)\n",
    "        camInfo = p.getDebugVisualizerCamera()\n",
    "        curTargetPos = camInfo[11]\n",
    "        distance=camInfo[10]\n",
    "        yaw = camInfo[8]\n",
    "        pitch=camInfo[9]\n",
    "        targetPos = [0.95*curTargetPos[0]+0.05*humanPos[0],0.95*curTargetPos[1]+0.05*humanPos[1],curTargetPos[2]]\n",
    "        \n",
    "        p.resetDebugVisualizerCamera(distance,270 ,pitch,targetPos)\n",
    "\n",
    "    def close(self):\n",
    "        p.disconnect(self.client)\n",
    "\n",
    "    def seed(self, seed=None):\n",
    "        self.np_random, seed = gym.utils.seeding.np_random(seed)\n",
    "        return [seed]"
   ]
  },
  {
   "cell_type": "code",
   "execution_count": 6,
   "id": "christian-month",
   "metadata": {},
   "outputs": [
    {
     "data": {
      "text/plain": [
       "(24,)"
      ]
     },
     "execution_count": 6,
     "metadata": {},
     "output_type": "execute_result"
    }
   ],
   "source": [
    "env = CycleBalancingEnv()\n",
    "env.reset().shape"
   ]
  },
  {
   "cell_type": "code",
   "execution_count": 7,
   "id": "thorough-flight",
   "metadata": {},
   "outputs": [
    {
     "name": "stdout",
     "output_type": "stream",
     "text": [
      "(24,)\n",
      "[0.68590516]\n"
     ]
    }
   ],
   "source": [
    "print(env.observation_space.sample().shape)\n",
    "print(env.action_space.sample())"
   ]
  },
  {
   "cell_type": "code",
   "execution_count": null,
   "id": "radical-search",
   "metadata": {},
   "outputs": [],
   "source": [
    "episodes = 1\n",
    "for episode in range(1, episodes+1):\n",
    "    state = env.reset()\n",
    "    done = False\n",
    "    score = 0 \n",
    "    \n",
    "    while not done:\n",
    "        env.render()\n",
    "        action = env.action_space.sample()\n",
    "        action = [0]\n",
    "        n_state, reward, done, info = env.step(action)\n",
    "        score+=reward\n",
    "        time.sleep(1/240)\n",
    "    print('Episode:{} Score:{}'.format(episode, score))\n",
    "#env.close()"
   ]
  },
  {
   "cell_type": "code",
   "execution_count": 8,
   "id": "ignored-mention",
   "metadata": {},
   "outputs": [],
   "source": [
    "import numpy as np\n",
    "from tensorflow.keras.models import Sequential\n",
    "from tensorflow.keras.layers import *\n",
    "from tensorflow.keras.optimizers import Adam\n",
    "import tensorflow as tf"
   ]
  },
  {
   "cell_type": "code",
   "execution_count": 9,
   "id": "spanish-monitoring",
   "metadata": {},
   "outputs": [
    {
     "data": {
      "text/plain": [
       "((24,), 1)"
      ]
     },
     "execution_count": 9,
     "metadata": {},
     "output_type": "execute_result"
    }
   ],
   "source": [
    "states = env.observation_space.shape # Shape of our observation space\n",
    "nb_actions = env.action_space.shape[0] # shape of our action space\n",
    "states, nb_actions"
   ]
  },
  {
   "cell_type": "code",
   "execution_count": null,
   "id": "convenient-memorabilia",
   "metadata": {},
   "outputs": [],
   "source": [
    "del actor, critic"
   ]
  },
  {
   "cell_type": "code",
   "execution_count": 10,
   "id": "right-mission",
   "metadata": {},
   "outputs": [
    {
     "name": "stdout",
     "output_type": "stream",
     "text": [
      "Model: \"sequential\"\n",
      "_________________________________________________________________\n",
      "Layer (type)                 Output Shape              Param #   \n",
      "=================================================================\n",
      "flatten (Flatten)            (None, 24)                0         \n",
      "_________________________________________________________________\n",
      "dense (Dense)                (None, 32)                800       \n",
      "_________________________________________________________________\n",
      "activation (Activation)      (None, 32)                0         \n",
      "_________________________________________________________________\n",
      "dense_1 (Dense)              (None, 32)                1056      \n",
      "_________________________________________________________________\n",
      "activation_1 (Activation)    (None, 32)                0         \n",
      "_________________________________________________________________\n",
      "dense_2 (Dense)              (None, 32)                1056      \n",
      "_________________________________________________________________\n",
      "activation_2 (Activation)    (None, 32)                0         \n",
      "_________________________________________________________________\n",
      "dense_3 (Dense)              (None, 1)                 33        \n",
      "_________________________________________________________________\n",
      "activation_3 (Activation)    (None, 1)                 0         \n",
      "=================================================================\n",
      "Total params: 2,945\n",
      "Trainable params: 2,945\n",
      "Non-trainable params: 0\n",
      "_________________________________________________________________\n",
      "None\n"
     ]
    }
   ],
   "source": [
    "# Defining our actor model for the DDPG algorithm\n",
    "\n",
    "actor = Sequential()\n",
    "actor.add(Flatten(input_shape=(1,) + env.observation_space.shape))\n",
    "# actor.add(LSTM(32, input_shape=(8,) + env.observation_space.shape))\n",
    "# actor.add(Flatten())\n",
    "actor.add(Dense(32, kernel_initializer='he_uniform'))\n",
    "actor.add(Activation('relu'))\n",
    "actor.add(Dense(32, kernel_initializer='he_uniform'))\n",
    "actor.add(Activation('relu'))\n",
    "actor.add(Dense(32, kernel_initializer='he_uniform'))\n",
    "actor.add(Activation('relu'))\n",
    "# actor.add(Reshape((1, -1)))\n",
    "# actor.add(LSTM(32))\n",
    "actor.add(Dense(nb_actions))\n",
    "actor.add(Activation('tanh'))\n",
    "print(actor.summary())"
   ]
  },
  {
   "cell_type": "code",
   "execution_count": 11,
   "id": "three-advertising",
   "metadata": {},
   "outputs": [
    {
     "name": "stdout",
     "output_type": "stream",
     "text": [
      "Model: \"model\"\n",
      "__________________________________________________________________________________________________\n",
      "Layer (type)                    Output Shape         Param #     Connected to                     \n",
      "==================================================================================================\n",
      "observation_input (InputLayer)  [(None, 1, 24)]      0                                            \n",
      "__________________________________________________________________________________________________\n",
      "action_input (InputLayer)       [(None, 1)]          0                                            \n",
      "__________________________________________________________________________________________________\n",
      "flatten_1 (Flatten)             (None, 24)           0           observation_input[0][0]          \n",
      "__________________________________________________________________________________________________\n",
      "concatenate (Concatenate)       (None, 25)           0           action_input[0][0]               \n",
      "                                                                 flatten_1[0][0]                  \n",
      "__________________________________________________________________________________________________\n",
      "dense_4 (Dense)                 (None, 32)           832         concatenate[0][0]                \n",
      "__________________________________________________________________________________________________\n",
      "activation_4 (Activation)       (None, 32)           0           dense_4[0][0]                    \n",
      "__________________________________________________________________________________________________\n",
      "dense_5 (Dense)                 (None, 32)           1056        activation_4[0][0]               \n",
      "__________________________________________________________________________________________________\n",
      "activation_5 (Activation)       (None, 32)           0           dense_5[0][0]                    \n",
      "__________________________________________________________________________________________________\n",
      "dense_6 (Dense)                 (None, 32)           1056        activation_5[0][0]               \n",
      "__________________________________________________________________________________________________\n",
      "activation_6 (Activation)       (None, 32)           0           dense_6[0][0]                    \n",
      "__________________________________________________________________________________________________\n",
      "dense_7 (Dense)                 (None, 1)            33          activation_6[0][0]               \n",
      "__________________________________________________________________________________________________\n",
      "activation_7 (Activation)       (None, 1)            0           dense_7[0][0]                    \n",
      "==================================================================================================\n",
      "Total params: 2,977\n",
      "Trainable params: 2,977\n",
      "Non-trainable params: 0\n",
      "__________________________________________________________________________________________________\n",
      "None\n"
     ]
    }
   ],
   "source": [
    "# Defining our critic network for the DDPG algorithm\n",
    "\n",
    "action_input = Input(shape=(nb_actions,), name='action_input')\n",
    "observation_input = tf.keras.Input(shape=(1,) + env.observation_space.shape, name='observation_input')\n",
    "flattened_observation = Flatten()(observation_input)\n",
    "x = Concatenate()([action_input, flattened_observation])\n",
    "x = Dense(32, kernel_initializer='he_uniform')(x)\n",
    "x = Activation('relu')(x)\n",
    "x = Dense(32, kernel_initializer='he_uniform')(x)\n",
    "x = Activation('relu')(x)\n",
    "x = Dense(32, kernel_initializer='he_uniform')(x)\n",
    "x = Activation('relu')(x)\n",
    "x = Dense(1)(x)\n",
    "x = Activation('linear')(x)\n",
    "critic = tf.keras.Model(inputs=[action_input, observation_input], outputs=x)\n",
    "print(critic.summary())"
   ]
  },
  {
   "cell_type": "code",
   "execution_count": 12,
   "id": "stunning-focus",
   "metadata": {},
   "outputs": [],
   "source": [
    "from rl.agents import DQNAgent, SARSAAgent, DDPGAgent\n",
    "#from rl.agents.sarsa import SARSAAgent\n",
    "from rl.policy import BoltzmannQPolicy, BoltzmannGumbelQPolicy, SoftmaxPolicy,  EpsGreedyQPolicy, GreedyQPolicy, BoltzmannGumbelQPolicy\n",
    "from rl.memory import SequentialMemory\n",
    "from rl.random import OrnsteinUhlenbeckProcess\n",
    "from rl.util import *"
   ]
  },
  {
   "cell_type": "code",
   "execution_count": 13,
   "id": "suspended-sunset",
   "metadata": {},
   "outputs": [],
   "source": [
    "episode_reward = []"
   ]
  },
  {
   "cell_type": "code",
   "execution_count": 14,
   "id": "recorded-kennedy",
   "metadata": {},
   "outputs": [],
   "source": [
    "# Defining our DDPG agent\n",
    "\n",
    "memory = SequentialMemory(limit=1000000, window_length=1)\n",
    "random_process = OrnsteinUhlenbeckProcess(size=nb_actions, theta= 0.1*np.ones(nb_actions), mu=np.zeros(nb_actions), sigma=.2*np.ones(nb_actions))\n",
    "agent = DDPGAgent(nb_actions=nb_actions, actor=actor, critic=critic, critic_action_input=action_input,\n",
    "                  memory=memory, nb_steps_warmup_critic=20, nb_steps_warmup_actor=20,\n",
    "                  random_process=random_process, gamma=0.99, target_model_update=1e-3)"
   ]
  },
  {
   "cell_type": "code",
   "execution_count": 18,
   "id": "liked-reverse",
   "metadata": {},
   "outputs": [],
   "source": [
    "agent.compile([Adam(lr=.00001, clipnorm=1.0), Adam(lr=.001, clipnorm=1.0)], metrics=['mae'])"
   ]
  },
  {
   "cell_type": "code",
   "execution_count": null,
   "id": "spatial-australian",
   "metadata": {},
   "outputs": [
    {
     "name": "stdout",
     "output_type": "stream",
     "text": [
      "Training for 50000 steps ...\n",
      "0 0.2 20.447061498557595\n",
      "   145/50000: episode: 1, duration: 6.263s, episode steps: 145, steps per second:  23, episode reward:  2.634, mean reward:  0.018 [-0.991,  1.647], mean action: 0.017 [-1.053, 1.040],  loss: 0.187605, mae: 0.272215, mean_q: 4.782101\n",
      "0 0 75.36921663482228\n",
      "   676/50000: episode: 2, duration: 26.061s, episode steps: 531, steps per second:  20, episode reward: 29.392, mean reward:  0.055 [-0.993,  6.020], mean action: -0.070 [-0.809, 1.606],  loss: 0.168050, mae: 0.255593, mean_q: 4.791431\n",
      "0 0 28.606830328235777\n",
      "   832/50000: episode: 3, duration: 7.785s, episode steps: 156, steps per second:  20, episode reward:  3.333, mean reward:  0.021 [-0.988,  1.647], mean action: 0.030 [-0.999, 0.558],  loss: 0.134663, mae: 0.237813, mean_q: 4.824453\n",
      "  1261/50000: episode: 4, duration: 33.938s, episode steps: 429, steps per second:  13, episode reward: 37.155, mean reward:  0.087 [-0.012,  6.023], mean action: 0.027 [-0.992, 1.151],  loss: 0.169095, mae: 0.255378, mean_q: 4.803759\n",
      "  1681/50000: episode: 5, duration: 33.282s, episode steps: 420, steps per second:  13, episode reward: 37.116, mean reward:  0.088 [-0.012,  6.016], mean action: 0.048 [-1.214, 1.128],  loss: 0.158826, mae: 0.250219, mean_q: 4.838331\n",
      "  2106/50000: episode: 6, duration: 34.457s, episode steps: 425, steps per second:  12, episode reward: 37.226, mean reward:  0.088 [ 0.000,  6.013], mean action: 0.034 [-0.933, 1.102],  loss: 0.150700, mae: 0.245857, mean_q: 4.825892\n",
      "  2567/50000: episode: 7, duration: 36.791s, episode steps: 461, steps per second:  13, episode reward: 35.895, mean reward:  0.078 [-0.067,  6.013], mean action: -0.009 [-1.259, 1.369],  loss: 0.177585, mae: 0.257997, mean_q: 4.812111\n",
      "Slow!!!\n",
      "10.09999999999998 0 66.45261716441077\n",
      "  3050/50000: episode: 8, duration: 23.701s, episode steps: 483, steps per second:  20, episode reward: 17.689, mean reward:  0.037 [-1.095,  6.006], mean action: -0.385 [-1.618, 0.753],  loss: 0.160183, mae: 0.249162, mean_q: 4.842959\n",
      "  3480/50000: episode: 9, duration: 35.199s, episode steps: 430, steps per second:  12, episode reward: 37.271, mean reward:  0.087 [ 0.000,  6.022], mean action: -0.023 [-0.613, 1.231],  loss: 0.156051, mae: 0.244568, mean_q: 4.812631\n",
      "0 0 37.693243711256294\n",
      "  3693/50000: episode: 10, duration: 9.513s, episode steps: 213, steps per second:  22, episode reward:  5.773, mean reward:  0.027 [-0.992,  2.292], mean action: -0.117 [-0.857, 1.043],  loss: 0.161982, mae: 0.250129, mean_q: 4.835485\n",
      "  4155/50000: episode: 11, duration: 34.906s, episode steps: 462, steps per second:  13, episode reward: 36.917, mean reward:  0.080 [-0.025,  6.021], mean action: -0.105 [-1.334, 0.719],  loss: 0.164463, mae: 0.245654, mean_q: 4.870370\n",
      "  4600/50000: episode: 12, duration: 35.616s, episode steps: 445, steps per second:  12, episode reward: 36.869, mean reward:  0.083 [-0.028,  6.014], mean action: -0.117 [-1.413, 0.924],  loss: 0.159034, mae: 0.253178, mean_q: 4.842873\n",
      "0 0 13.54467580184248\n",
      "  4677/50000: episode: 13, duration: 4.040s, episode steps:  77, steps per second:  19, episode reward:  0.910, mean reward:  0.012 [-0.988,  1.337], mean action: -0.175 [-0.975, 0.303],  loss: 0.133139, mae: 0.241489, mean_q: 4.835799\n",
      "  5119/50000: episode: 14, duration: 36.311s, episode steps: 442, steps per second:  12, episode reward: 37.342, mean reward:  0.084 [-0.002,  6.022], mean action: -0.001 [-1.179, 1.038],  loss: 0.158675, mae: 0.252524, mean_q: 4.851922\n",
      "  5722/50000: episode: 15, duration: 41.633s, episode steps: 603, steps per second:  14, episode reward: 31.595, mean reward:  0.052 [-0.060,  6.019], mean action: -0.243 [-1.192, 1.323],  loss: 0.166577, mae: 0.253082, mean_q: 4.868980\n",
      "0 0 44.02032812825842\n",
      "  5981/50000: episode: 16, duration: 12.213s, episode steps: 259, steps per second:  21, episode reward:  9.952, mean reward:  0.038 [-0.982,  3.574], mean action: -0.069 [-1.064, 0.916],  loss: 0.151072, mae: 0.247926, mean_q: 4.875246\n",
      "0 0 15.012638000318221\n",
      "  6087/50000: episode: 17, duration: 5.351s, episode steps: 106, steps per second:  20, episode reward:  0.792, mean reward:  0.007 [-0.993,  1.334], mean action: -0.121 [-1.002, 1.141],  loss: 0.141373, mae: 0.238339, mean_q: 4.821138\n",
      "  6516/50000: episode: 18, duration: 34.027s, episode steps: 429, steps per second:  13, episode reward: 37.084, mean reward:  0.086 [-0.012,  6.021], mean action: -0.028 [-1.152, 1.184],  loss: 0.185684, mae: 0.264842, mean_q: 4.871342\n",
      "  6978/50000: episode: 19, duration: 48.970s, episode steps: 462, steps per second:   9, episode reward: 35.993, mean reward:  0.078 [-0.058,  6.017], mean action: -0.086 [-1.368, 1.087],  loss: 0.172395, mae: 0.254660, mean_q: 4.889642\n",
      "0 0 19.801080143944755\n",
      "  7089/50000: episode: 20, duration: 4.949s, episode steps: 111, steps per second:  22, episode reward:  1.147, mean reward:  0.010 [-0.997,  1.321], mean action: 0.020 [-0.600, 1.009],  loss: 0.211213, mae: 0.263453, mean_q: 4.923788\n",
      "0 0 60.39338128504359\n",
      "  7411/50000: episode: 21, duration: 14.600s, episode steps: 322, steps per second:  22, episode reward: 22.963, mean reward:  0.071 [-0.993,  6.017], mean action: 0.000 [-1.010, 0.783],  loss: 0.161376, mae: 0.245144, mean_q: 4.922218\n",
      "  7844/50000: episode: 22, duration: 36.227s, episode steps: 433, steps per second:  12, episode reward: 36.911, mean reward:  0.085 [-0.024,  6.013], mean action: -0.014 [-1.183, 1.043],  loss: 0.157968, mae: 0.248598, mean_q: 4.915913\n",
      "  8256/50000: episode: 23, duration: 35.448s, episode steps: 412, steps per second:  12, episode reward: 37.208, mean reward:  0.090 [ 0.000,  6.009], mean action: 0.115 [-0.974, 1.382],  loss: 0.158267, mae: 0.243979, mean_q: 4.956160\n",
      "0.7 0 68.47919148894785\n",
      "  8630/50000: episode: 24, duration: 16.637s, episode steps: 374, steps per second:  22, episode reward: 23.160, mean reward:  0.062 [-0.997,  6.007], mean action: -0.004 [-1.272, 1.196],  loss: 0.185795, mae: 0.252658, mean_q: 4.934758\n",
      "  9047/50000: episode: 25, duration: 32.919s, episode steps: 417, steps per second:  13, episode reward: 37.251, mean reward:  0.089 [ 0.000,  6.019], mean action: 0.012 [-0.931, 1.148],  loss: 0.159949, mae: 0.244112, mean_q: 4.930255\n",
      "  9536/50000: episode: 26, duration: 34.866s, episode steps: 489, steps per second:  14, episode reward: 35.538, mean reward:  0.073 [-0.066,  6.023], mean action: -0.102 [-1.208, 1.303],  loss: 0.170216, mae: 0.248373, mean_q: 4.939507\n",
      "0 0 21.20654787251658\n",
      "  9667/50000: episode: 27, duration: 5.867s, episode steps: 131, steps per second:  22, episode reward:  2.739, mean reward:  0.021 [-0.997,  1.647], mean action: -0.157 [-0.771, 1.279],  loss: 0.139348, mae: 0.230474, mean_q: 4.953784\n",
      " 10204/50000: episode: 28, duration: 40.300s, episode steps: 537, steps per second:  13, episode reward: 37.637, mean reward:  0.070 [-0.012,  6.023], mean action: -0.044 [-1.028, 1.110],  loss: 0.151988, mae: 0.241467, mean_q: 4.925345\n",
      " 10663/50000: episode: 29, duration: 39.408s, episode steps: 459, steps per second:  12, episode reward: 37.364, mean reward:  0.081 [-0.005,  6.022], mean action: -0.116 [-1.332, 0.671],  loss: 0.177405, mae: 0.257414, mean_q: 4.931345\n",
      " 11122/50000: episode: 30, duration: 36.115s, episode steps: 459, steps per second:  13, episode reward: 36.418, mean reward:  0.079 [-0.051,  6.022], mean action: -0.090 [-1.377, 1.115],  loss: 0.155890, mae: 0.243480, mean_q: 4.949704\n",
      "0.4 0 8.614829059903867\n",
      " 11178/50000: episode: 31, duration: 2.797s, episode steps:  56, steps per second:  20, episode reward: -0.758, mean reward: -0.014 [-0.995,  0.018], mean action: -0.298 [-0.803, 0.203],  loss: 0.208842, mae: 0.273170, mean_q: 5.015953\n",
      " 11633/50000: episode: 32, duration: 36.396s, episode steps: 455, steps per second:  13, episode reward: 37.321, mean reward:  0.082 [-0.002,  6.018], mean action: -0.059 [-1.309, 0.870],  loss: 0.147683, mae: 0.242317, mean_q: 4.916079\n",
      "0 0 31.631415943178617\n",
      " 11840/50000: episode: 33, duration: 8.891s, episode steps: 207, steps per second:  23, episode reward:  5.777, mean reward:  0.028 [-0.992,  2.284], mean action: 0.136 [-0.750, 0.886],  loss: 0.166946, mae: 0.248381, mean_q: 4.954356\n",
      "0 0 28.485828406428578\n",
      " 12006/50000: episode: 34, duration: 7.705s, episode steps: 166, steps per second:  22, episode reward:  3.280, mean reward:  0.020 [-0.986,  1.651], mean action: 0.003 [-1.119, 0.957],  loss: 0.187465, mae: 0.260895, mean_q: 4.940293\n",
      "0 0 35.70065354124878\n",
      " 12325/50000: episode: 35, duration: 13.895s, episode steps: 319, steps per second:  23, episode reward:  6.206, mean reward:  0.019 [-0.985,  2.287], mean action: 0.127 [-0.635, 1.400],  loss: 0.165229, mae: 0.246571, mean_q: 4.969594\n",
      " 12797/50000: episode: 36, duration: 35.327s, episode steps: 472, steps per second:  13, episode reward: 37.026, mean reward:  0.078 [-0.022,  6.011], mean action: -0.097 [-1.518, 0.798],  loss: 0.162818, mae: 0.253474, mean_q: 4.945087\n",
      "0 0 42.03119363110297\n",
      " 13013/50000: episode: 37, duration: 9.321s, episode steps: 216, steps per second:  23, episode reward:  9.905, mean reward:  0.046 [-0.987,  3.574], mean action: 0.003 [-1.023, 1.032],  loss: 0.153249, mae: 0.243908, mean_q: 4.941565\n",
      "0 0 42.509334445732826\n",
      " 13234/50000: episode: 38, duration: 10.967s, episode steps: 221, steps per second:  20, episode reward:  9.895, mean reward:  0.045 [-0.996,  3.576], mean action: 0.003 [-1.096, 0.931],  loss: 0.160966, mae: 0.254274, mean_q: 4.969738\n",
      "0 0 42.98292126050331\n",
      " 13475/50000: episode: 39, duration: 27.397s, episode steps: 241, steps per second:   9, episode reward:  9.884, mean reward:  0.041 [-0.996,  3.571], mean action: 0.002 [-1.092, 0.627],  loss: 0.163370, mae: 0.261628, mean_q: 4.966323\n",
      "0 0 43.06942727524446\n",
      " 13752/50000: episode: 40, duration: 11.044s, episode steps: 277, steps per second:  25, episode reward: 10.072, mean reward:  0.036 [-0.985,  3.563], mean action: 0.149 [-0.541, 1.049],  loss: 0.154598, mae: 0.241948, mean_q: 4.932892\n",
      " 14176/50000: episode: 41, duration: 32.396s, episode steps: 424, steps per second:  13, episode reward: 37.263, mean reward:  0.088 [-0.004,  6.014], mean action: -0.033 [-1.290, 0.858],  loss: 0.152290, mae: 0.247002, mean_q: 4.939375\n",
      "0 0 68.24542975878029\n",
      " 14612/50000: episode: 42, duration: 20.372s, episode steps: 436, steps per second:  21, episode reward: 23.390, mean reward:  0.054 [-0.986,  6.011], mean action: 0.011 [-1.013, 0.959],  loss: 0.152039, mae: 0.245392, mean_q: 4.943609\n",
      " 15034/50000: episode: 43, duration: 34.541s, episode steps: 422, steps per second:  12, episode reward: 37.205, mean reward:  0.088 [-0.002,  6.008], mean action: -0.117 [-1.364, 0.786],  loss: 0.144043, mae: 0.240739, mean_q: 4.924286\n",
      "0 0 33.310021206853406\n",
      " 15250/50000: episode: 44, duration: 10.548s, episode steps: 216, steps per second:  20, episode reward:  5.141, mean reward:  0.024 [-0.987,  2.297], mean action: -0.164 [-0.995, 0.994],  loss: 0.142158, mae: 0.243073, mean_q: 4.929935\n",
      "0 0 18.483502331292616\n",
      " 15374/50000: episode: 45, duration: 6.261s, episode steps: 124, steps per second:  20, episode reward:  0.523, mean reward:  0.004 [-0.991,  1.325], mean action: -0.045 [-1.228, 0.844],  loss: 0.194980, mae: 0.267475, mean_q: 4.959241\n",
      "0 0 54.15806111022063\n",
      " 15779/50000: episode: 46, duration: 17.270s, episode steps: 405, steps per second:  23, episode reward: 16.252, mean reward:  0.040 [-0.988,  6.004], mean action: -0.024 [-0.933, 1.142],  loss: 0.148463, mae: 0.244130, mean_q: 4.946546\n",
      "0 0 43.26755180249481\n",
      " 16002/50000: episode: 47, duration: 10.304s, episode steps: 223, steps per second:  22, episode reward:  9.951, mean reward:  0.045 [-0.993,  3.572], mean action: -0.052 [-1.055, 1.027],  loss: 0.151718, mae: 0.250056, mean_q: 4.937877\n",
      "0 0 41.158291590733675\n",
      " 16271/50000: episode: 48, duration: 13.097s, episode steps: 269, steps per second:  21, episode reward:  9.525, mean reward:  0.035 [-0.989,  3.569], mean action: -0.202 [-1.097, 0.884],  loss: 0.207329, mae: 0.266609, mean_q: 4.980427\n",
      "4.200000000000001 0 32.239444102677716\n",
      " 16568/50000: episode: 49, duration: 15.213s, episode steps: 297, steps per second:  20, episode reward:  2.417, mean reward:  0.008 [-1.041,  2.238], mean action: -0.423 [-1.342, 1.076],  loss: 0.144505, mae: 0.245536, mean_q: 4.964105\n",
      "0 0 46.80068589560476\n",
      " 16813/50000: episode: 50, duration: 11.688s, episode steps: 245, steps per second:  21, episode reward: 10.178, mean reward:  0.042 [-0.988,  3.564], mean action: -0.048 [-0.584, 1.320],  loss: 0.188622, mae: 0.265333, mean_q: 4.940930\n",
      "0 0 29.530006847165016\n",
      " 16987/50000: episode: 51, duration: 8.316s, episode steps: 174, steps per second:  21, episode reward:  3.136, mean reward:  0.018 [-0.991,  1.655], mean action: -0.073 [-1.118, 0.991],  loss: 0.164050, mae: 0.256364, mean_q: 4.930643\n",
      "0.9999999999999999 0 38.72796147596603\n",
      " 17193/50000: episode: 52, duration: 10.258s, episode steps: 206, steps per second:  20, episode reward:  6.111, mean reward:  0.030 [-1.001,  2.282], mean action: -0.134 [-1.156, 1.006],  loss: 0.166419, mae: 0.245386, mean_q: 4.936208\n",
      "0 0 44.447567891308964\n",
      " 17468/50000: episode: 53, duration: 13.217s, episode steps: 275, steps per second:  21, episode reward: 10.027, mean reward:  0.036 [-0.993,  3.564], mean action: 0.040 [-0.774, 1.314],  loss: 0.186009, mae: 0.263205, mean_q: 4.956453\n",
      "0 0 20.93405112162656\n",
      " 17589/50000: episode: 54, duration: 5.473s, episode steps: 121, steps per second:  22, episode reward:  2.754, mean reward:  0.023 [-0.997,  1.653], mean action: 0.053 [-0.833, 0.969],  loss: 0.145970, mae: 0.248184, mean_q: 4.911426\n",
      "0 0 13.926987745954818\n",
      " 17670/50000: episode: 55, duration: 4.139s, episode steps:  81, steps per second:  20, episode reward:  0.941, mean reward:  0.012 [-0.998,  1.339], mean action: -0.172 [-1.155, 0.444],  loss: 0.191030, mae: 0.262726, mean_q: 5.005116\n",
      "Slow!!!\n",
      "10.09999999999998 0 32.44446581107904\n",
      " 17999/50000: episode: 56, duration: 14.015s, episode steps: 329, steps per second:  23, episode reward: -0.332, mean reward: -0.001 [-1.089,  2.295], mean action: -0.572 [-1.588, 0.609],  loss: 0.162435, mae: 0.251540, mean_q: 4.976791\n",
      "0 0 20.206014907933685\n",
      " 18208/50000: episode: 57, duration: 9.286s, episode steps: 209, steps per second:  23, episode reward:  2.114, mean reward:  0.010 [-0.982,  1.657], mean action: -0.289 [-0.962, 0.918],  loss: 0.141659, mae: 0.240026, mean_q: 4.924973\n",
      "0.1 0 18.578076313804928\n",
      " 18320/50000: episode: 58, duration: 5.059s, episode steps: 112, steps per second:  22, episode reward:  0.872, mean reward:  0.008 [-0.996,  1.321], mean action: 0.054 [-1.162, 1.044],  loss: 0.167462, mae: 0.250883, mean_q: 4.883816\n",
      "0 0 16.18070948582883\n",
      " 18435/50000: episode: 59, duration: 23.638s, episode steps: 115, steps per second:   5, episode reward:  0.729, mean reward:  0.006 [-0.990,  1.331], mean action: -0.221 [-0.856, 0.956],  loss: 0.180656, mae: 0.253633, mean_q: 4.934809\n",
      "0.4 0 63.5420323426347\n",
      " 18850/50000: episode: 60, duration: 19.601s, episode steps: 415, steps per second:  21, episode reward: 23.400, mean reward:  0.056 [-0.996,  6.013], mean action: -0.058 [-0.794, 1.242],  loss: 0.165894, mae: 0.255014, mean_q: 4.959981\n",
      " 19264/50000: episode: 61, duration: 31.750s, episode steps: 414, steps per second:  13, episode reward: 37.182, mean reward:  0.090 [-0.002,  6.017], mean action: 0.049 [-0.962, 1.414],  loss: 0.176801, mae: 0.259012, mean_q: 4.958569\n",
      " 19728/50000: episode: 62, duration: 34.924s, episode steps: 464, steps per second:  13, episode reward: 37.330, mean reward:  0.080 [-0.006,  6.013], mean action: -0.034 [-1.148, 0.939],  loss: 0.173150, mae: 0.260514, mean_q: 4.929265\n",
      "0 0 57.02123813528905\n",
      " 20158/50000: episode: 63, duration: 21.735s, episode steps: 430, steps per second:  20, episode reward: 17.169, mean reward:  0.040 [-0.996,  6.010], mean action: 0.088 [-0.763, 1.050],  loss: 0.179347, mae: 0.260932, mean_q: 4.929042\n",
      "5.699999999999996 0 34.922954638718835\n",
      " 20389/50000: episode: 64, duration: 10.932s, episode steps: 231, steps per second:  21, episode reward:  4.131, mean reward:  0.018 [-1.054,  2.300], mean action: -0.398 [-1.675, 0.874],  loss: 0.187358, mae: 0.261842, mean_q: 4.966876\n",
      " 20810/50000: episode: 65, duration: 34.743s, episode steps: 421, steps per second:  12, episode reward: 37.113, mean reward:  0.088 [-0.012,  6.009], mean action: -0.072 [-1.054, 0.817],  loss: 0.151002, mae: 0.247112, mean_q: 4.973729\n",
      "0 0 25.321878983552686\n",
      " 20961/50000: episode: 66, duration: 6.857s, episode steps: 151, steps per second:  22, episode reward:  3.079, mean reward:  0.020 [-0.997,  1.655], mean action: -0.039 [-0.830, 0.999],  loss: 0.165000, mae: 0.255337, mean_q: 4.913997\n",
      "0 0 19.573464832343767\n",
      " 21078/50000: episode: 67, duration: 5.081s, episode steps: 117, steps per second:  23, episode reward:  1.027, mean reward:  0.009 [-0.986,  1.336], mean action: -0.142 [-1.248, 0.717],  loss: 0.178285, mae: 0.255878, mean_q: 4.989651\n",
      "0 0 51.35899045146225\n",
      " 21363/50000: episode: 68, duration: 12.118s, episode steps: 285, steps per second:  24, episode reward: 16.288, mean reward:  0.057 [-0.988,  6.018], mean action: -0.033 [-1.022, 1.008],  loss: 0.169227, mae: 0.251672, mean_q: 5.003117\n",
      "0 0 25.532586729488724\n",
      " 21511/50000: episode: 69, duration: 6.403s, episode steps: 148, steps per second:  23, episode reward:  2.925, mean reward:  0.020 [-0.984,  1.643], mean action: -0.112 [-0.878, 0.728],  loss: 0.166281, mae: 0.251514, mean_q: 4.956944\n",
      "0.9999999999999999 0 9.543482109082971\n",
      " 21575/50000: episode: 70, duration: 2.872s, episode steps:  64, steps per second:  22, episode reward: -0.750, mean reward: -0.012 [-1.003,  0.017], mean action: 0.036 [-0.924, 1.045],  loss: 0.116592, mae: 0.224729, mean_q: 4.880325\n",
      "0 0 32.60137861606904\n",
      " 21751/50000: episode: 71, duration: 7.531s, episode steps: 176, steps per second:  23, episode reward:  5.734, mean reward:  0.033 [-0.987,  2.287], mean action: -0.022 [-0.649, 0.586],  loss: 0.173135, mae: 0.254128, mean_q: 5.017508\n",
      "0 0 19.56713591569757\n",
      " 21873/50000: episode: 72, duration: 5.256s, episode steps: 122, steps per second:  23, episode reward:  0.857, mean reward:  0.007 [-0.996,  1.328], mean action: -0.141 [-1.058, 0.771],  loss: 0.149461, mae: 0.244966, mean_q: 4.953941\n",
      "0 0 12.45541203207527\n",
      " 21953/50000: episode: 73, duration: 3.510s, episode steps:  80, steps per second:  23, episode reward:  0.662, mean reward:  0.008 [-0.999,  1.336], mean action: -0.368 [-1.272, 0.339],  loss: 0.158634, mae: 0.251694, mean_q: 4.948298\n",
      "0 0 28.073622086270305\n",
      " 22104/50000: episode: 74, duration: 6.451s, episode steps: 151, steps per second:  23, episode reward:  3.292, mean reward:  0.022 [-0.997,  1.657], mean action: 0.067 [-0.620, 0.879],  loss: 0.180452, mae: 0.263006, mean_q: 4.975272\n",
      "0 0 12.740334669973802\n",
      " 22184/50000: episode: 75, duration: 3.719s, episode steps:  80, steps per second:  22, episode reward:  0.783, mean reward:  0.010 [-0.999,  1.332], mean action: -0.357 [-0.972, 0.169],  loss: 0.171617, mae: 0.252137, mean_q: 4.897357\n",
      "0.7 0 67.01320521744003\n",
      " 22603/50000: episode: 76, duration: 18.058s, episode steps: 419, steps per second:  23, episode reward: 23.484, mean reward:  0.056 [-0.993,  6.016], mean action: -0.089 [-1.136, 0.768],  loss: 0.165848, mae: 0.251892, mean_q: 4.959716\n",
      "0 0 21.835750171860788\n",
      " 22748/50000: episode: 77, duration: 6.266s, episode steps: 145, steps per second:  23, episode reward:  2.446, mean reward:  0.017 [-0.988,  1.656], mean action: -0.332 [-1.501, 0.519],  loss: 0.166555, mae: 0.253122, mean_q: 4.979832\n",
      "0 0 38.00688868991289\n",
      " 23031/50000: episode: 78, duration: 12.590s, episode steps: 283, steps per second:  22, episode reward:  5.339, mean reward:  0.019 [-0.994,  2.286], mean action: 0.201 [-0.569, 1.502],  loss: 0.162963, mae: 0.253422, mean_q: 4.950737\n",
      "0 0 38.706492133023765\n",
      " 23289/50000: episode: 79, duration: 26.114s, episode steps: 258, steps per second:  10, episode reward:  6.150, mean reward:  0.024 [-0.989,  2.283], mean action: 0.059 [-0.775, 1.143],  loss: 0.142937, mae: 0.245528, mean_q: 4.931450\n",
      "0 0 33.988730472656115\n",
      " 23482/50000: episode: 80, duration: 8.282s, episode steps: 193, steps per second:  23, episode reward:  5.777, mean reward:  0.030 [-0.993,  2.282], mean action: -0.031 [-0.797, 1.043],  loss: 0.156382, mae: 0.255705, mean_q: 4.869987\n",
      " 23934/50000: episode: 81, duration: 34.066s, episode steps: 452, steps per second:  13, episode reward: 37.105, mean reward:  0.082 [-0.022,  6.010], mean action: -0.079 [-0.974, 0.971],  loss: 0.161390, mae: 0.257128, mean_q: 4.956775\n",
      "0 0 34.866126677173945\n",
      " 24114/50000: episode: 82, duration: 7.596s, episode steps: 180, steps per second:  24, episode reward:  5.953, mean reward:  0.033 [-0.998,  2.296], mean action: -0.020 [-0.789, 0.814],  loss: 0.204409, mae: 0.263223, mean_q: 4.966063\n",
      "0 0 13.61510315002524\n",
      " 24197/50000: episode: 83, duration: 3.576s, episode steps:  83, steps per second:  23, episode reward:  0.763, mean reward:  0.009 [-0.994,  1.329], mean action: -0.351 [-1.014, 0.394],  loss: 0.225174, mae: 0.286661, mean_q: 4.897284\n",
      "0 0 19.217699618554978\n",
      " 24301/50000: episode: 84, duration: 4.515s, episode steps: 104, steps per second:  23, episode reward:  1.185, mean reward:  0.011 [-0.991,  1.339], mean action: -0.116 [-0.768, 0.681],  loss: 0.182600, mae: 0.265626, mean_q: 4.916941\n",
      "0 0 34.06460423754089\n",
      " 24488/50000: episode: 85, duration: 8.038s, episode steps: 187, steps per second:  23, episode reward:  5.886, mean reward:  0.031 [-0.991,  2.290], mean action: -0.072 [-0.899, 0.939],  loss: 0.186182, mae: 0.263043, mean_q: 4.967471\n",
      "0 0 37.33431822905963\n",
      " 24699/50000: episode: 86, duration: 9.066s, episode steps: 211, steps per second:  23, episode reward:  6.103, mean reward:  0.029 [-0.997,  2.287], mean action: 0.097 [-0.745, 0.979],  loss: 0.195435, mae: 0.263303, mean_q: 4.951003\n",
      "0 0 33.701610559098036\n",
      " 24887/50000: episode: 87, duration: 8.018s, episode steps: 188, steps per second:  23, episode reward:  5.712, mean reward:  0.030 [-0.983,  2.282], mean action: -0.102 [-1.198, 0.876],  loss: 0.190661, mae: 0.263358, mean_q: 4.934371\n",
      "0 0 65.01263618302585\n",
      " 25329/50000: episode: 88, duration: 18.725s, episode steps: 442, steps per second:  24, episode reward: 23.230, mean reward:  0.053 [-0.992,  6.006], mean action: -0.010 [-0.958, 0.965],  loss: 0.150875, mae: 0.249744, mean_q: 4.959603\n",
      "0 0 13.901072990253459\n",
      " 25408/50000: episode: 89, duration: 3.327s, episode steps:  79, steps per second:  24, episode reward:  0.914, mean reward:  0.012 [-0.983,  1.339], mean action: -0.241 [-0.835, 0.907],  loss: 0.110861, mae: 0.235210, mean_q: 4.870335\n",
      " 25841/50000: episode: 90, duration: 32.976s, episode steps: 433, steps per second:  13, episode reward: 37.227, mean reward:  0.086 [-0.002,  6.016], mean action: -0.042 [-1.325, 0.857],  loss: 0.161795, mae: 0.252702, mean_q: 4.968342\n",
      "Slow!!!\n",
      "10.09999999999998 0 66.78898026003492\n",
      " 26319/50000: episode: 91, duration: 20.334s, episode steps: 478, steps per second:  24, episode reward: 18.060, mean reward:  0.038 [-1.094,  6.018], mean action: -0.276 [-1.437, 0.998],  loss: 0.162531, mae: 0.251399, mean_q: 4.948357\n",
      "0 0 38.21853275433604\n",
      " 26525/50000: episode: 92, duration: 8.475s, episode steps: 206, steps per second:  24, episode reward:  6.129, mean reward:  0.030 [-0.988,  2.286], mean action: 0.047 [-0.934, 0.929],  loss: 0.176128, mae: 0.261896, mean_q: 4.977448\n",
      " 26938/50000: episode: 93, duration: 32.735s, episode steps: 413, steps per second:  13, episode reward: 37.226, mean reward:  0.090 [ 0.000,  6.010], mean action: 0.111 [-0.860, 1.276],  loss: 0.174513, mae: 0.260261, mean_q: 4.937346\n",
      "0 1.0999999999999999 38.60030676969758\n",
      " 27159/50000: episode: 94, duration: 9.330s, episode steps: 221, steps per second:  24, episode reward:  5.651, mean reward:  0.026 [-1.009,  2.290], mean action: -0.022 [-1.014, 1.176],  loss: 0.188404, mae: 0.267353, mean_q: 4.963159\n",
      "0 0 46.88795139324221\n",
      " 27458/50000: episode: 95, duration: 12.863s, episode steps: 299, steps per second:  23, episode reward:  9.458, mean reward:  0.032 [-0.980,  3.568], mean action: -0.237 [-1.395, 0.852],  loss: 0.155278, mae: 0.251192, mean_q: 4.974489\n",
      "0.2 0 11.500416798024373\n",
      " 27529/50000: episode: 96, duration: 3.039s, episode steps:  71, steps per second:  23, episode reward:  0.807, mean reward:  0.011 [-0.999,  1.328], mean action: -0.282 [-1.164, 0.285],  loss: 0.118962, mae: 0.238802, mean_q: 4.940003\n",
      " 27957/50000: episode: 97, duration: 33.428s, episode steps: 428, steps per second:  13, episode reward: 37.126, mean reward:  0.087 [-0.012,  6.020], mean action: 0.083 [-0.864, 1.273],  loss: 0.167836, mae: 0.255230, mean_q: 4.979362\n",
      "0 0 54.22881539556671\n",
      " 28270/50000: episode: 98, duration: 14.463s, episode steps: 313, steps per second:  22, episode reward: 16.673, mean reward:  0.053 [-0.993,  6.017], mean action: 0.164 [-0.796, 1.011],  loss: 0.142819, mae: 0.243511, mean_q: 4.965661\n",
      "0 0 24.930595646271453\n",
      " 28412/50000: episode: 99, duration: 21.980s, episode steps: 142, steps per second:   6, episode reward:  2.804, mean reward:  0.020 [-0.995,  1.657], mean action: -0.101 [-0.802, 0.817],  loss: 0.205969, mae: 0.280100, mean_q: 5.033408\n",
      "0 0 14.536819673179165\n",
      " 28551/50000: episode: 100, duration: 7.602s, episode steps: 139, steps per second:  18, episode reward:  0.462, mean reward:  0.003 [-0.987,  1.332], mean action: -0.415 [-1.332, 0.524],  loss: 0.170553, mae: 0.258566, mean_q: 4.960944\n",
      " 29049/50000: episode: 101, duration: 52.295s, episode steps: 498, steps per second:  10, episode reward: 36.801, mean reward:  0.074 [-0.032,  6.015], mean action: -0.009 [-0.870, 1.031],  loss: 0.161974, mae: 0.253738, mean_q: 4.985833\n",
      " 29490/50000: episode: 102, duration: 46.341s, episode steps: 441, steps per second:  10, episode reward: 37.258, mean reward:  0.084 [-0.012,  6.015], mean action: 0.030 [-0.884, 1.119],  loss: 0.166093, mae: 0.254904, mean_q: 5.000701\n",
      " 29963/50000: episode: 103, duration: 38.517s, episode steps: 473, steps per second:  12, episode reward: 37.378, mean reward:  0.079 [-0.002,  6.014], mean action: -0.020 [-1.099, 1.081],  loss: 0.171507, mae: 0.257432, mean_q: 4.980208\n",
      "0 0 20.512794455024476\n",
      " 30083/50000: episode: 104, duration: 5.839s, episode steps: 120, steps per second:  21, episode reward:  2.786, mean reward:  0.023 [-0.999,  1.657], mean action: -0.209 [-0.871, 0.817],  loss: 0.171116, mae: 0.250367, mean_q: 4.928506\n",
      " 30545/50000: episode: 105, duration: 36.819s, episode steps: 462, steps per second:  13, episode reward: 35.445, mean reward:  0.077 [-0.067,  6.008], mean action: -0.133 [-1.296, 0.919],  loss: 0.163252, mae: 0.250911, mean_q: 4.998157\n",
      "Slow!!!\n",
      "10.09999999999998 0 70.85122393274021\n",
      " 31031/50000: episode: 106, duration: 24.832s, episode steps: 486, steps per second:  20, episode reward: 23.901, mean reward:  0.049 [-1.091,  6.007], mean action: -0.278 [-1.469, 0.996],  loss: 0.164157, mae: 0.256251, mean_q: 4.982102\n",
      "0 0 37.46446004383224\n",
      " 31434/50000: episode: 107, duration: 20.152s, episode steps: 403, steps per second:  20, episode reward: -0.889, mean reward: -0.002 [-0.991,  2.288], mean action: -0.661 [-1.520, 0.756],  loss: 0.179783, mae: 0.263792, mean_q: 4.986997\n",
      "0 0 18.6205518447128\n",
      " 31541/50000: episode: 108, duration: 5.384s, episode steps: 107, steps per second:  20, episode reward:  1.162, mean reward:  0.011 [-0.986,  1.322], mean action: -0.208 [-1.085, 0.791],  loss: 0.164587, mae: 0.259565, mean_q: 4.994929\n",
      "0 0 49.85120735140206\n",
      " 31832/50000: episode: 109, duration: 13.211s, episode steps: 291, steps per second:  22, episode reward:  9.782, mean reward:  0.034 [-0.996,  3.570], mean action: 0.002 [-0.954, 1.076],  loss: 0.199077, mae: 0.269677, mean_q: 5.009115\n",
      "0 0 18.95764427021285\n",
      " 31938/50000: episode: 110, duration: 5.932s, episode steps: 106, steps per second:  18, episode reward:  1.159, mean reward:  0.011 [-0.987,  1.321], mean action: -0.030 [-0.985, 1.030],  loss: 0.152680, mae: 0.241279, mean_q: 5.050108\n",
      " 32343/50000: episode: 111, duration: 35.999s, episode steps: 405, steps per second:  11, episode reward: 37.187, mean reward:  0.092 [ 0.000,  6.017], mean action: -0.054 [-1.336, 0.777],  loss: 0.168191, mae: 0.258612, mean_q: 5.012107\n",
      "0 0 29.72388238500919\n",
      " 32536/50000: episode: 112, duration: 7.869s, episode steps: 193, steps per second:  25, episode reward:  2.818, mean reward:  0.015 [-0.994,  1.646], mean action: -0.209 [-1.036, 1.023],  loss: 0.179130, mae: 0.258985, mean_q: 4.983235\n"
     ]
    }
   ],
   "source": [
    "history = agent.fit(env, nb_steps=50000, visualize=True, verbose=2, nb_max_episode_steps=1000)\n",
    "episode_reward += history.history['episode_reward']"
   ]
  },
  {
   "cell_type": "code",
   "execution_count": 24,
   "id": "accurate-writing",
   "metadata": {},
   "outputs": [
    {
     "data": {
      "text/plain": [
       "[<matplotlib.lines.Line2D at 0x24c1d1ed910>]"
      ]
     },
     "execution_count": 24,
     "metadata": {},
     "output_type": "execute_result"
    },
    {
     "data": {
      "image/png": "[encoded data removed]",
      "text/plain": [
       "<Figure size 432x288 with 1 Axes>"
      ]
     },
     "metadata": {
      "needs_background": "light"
     },
     "output_type": "display_data"
    }
   ],
   "source": [
    "plt.plot(episode_reward)"
   ]
  },
  {
   "cell_type": "code",
   "execution_count": 25,
   "id": "small-minority",
   "metadata": {},
   "outputs": [
    {
     "data": {
      "text/plain": [
       "[<matplotlib.lines.Line2D at 0x24c255e80d0>]"
      ]
     },
     "execution_count": 25,
     "metadata": {},
     "output_type": "execute_result"
    },
    {
     "data": {
      "image/png": "[encoded data removed]",
      "text/plain": [
       "<Figure size 432x288 with 1 Axes>"
      ]
     },
     "metadata": {
      "needs_background": "light"
     },
     "output_type": "display_data"
    }
   ],
   "source": [
    "avg_reward = []\n",
    "sum_reward = 0\n",
    "span = 100\n",
    "for i in range(len(episode_reward)):\n",
    "    if i>=span: sum_reward -= episode_reward[i-span]\n",
    "    sum_reward += episode_reward[i]\n",
    "    if i>=span: avg_reward.append(sum_reward/span)\n",
    "plt.plot(avg_reward)"
   ]
  },
  {
   "cell_type": "code",
   "execution_count": 28,
   "id": "peaceful-snake",
   "metadata": {},
   "outputs": [
    {
     "data": {
      "text/plain": [
       "[<matplotlib.lines.Line2D at 0x24c256dc4f0>]"
      ]
     },
     "execution_count": 28,
     "metadata": {},
     "output_type": "execute_result"
    },
    {
     "data": {
      "image/png": "[encoded data removed]",
      "text/plain": [
       "<Figure size 432x288 with 1 Axes>"
      ]
     },
     "metadata": {
      "needs_background": "light"
     },
     "output_type": "display_data"
    }
   ],
   "source": [
    "avg_reward = []\n",
    "sum_reward = 0\n",
    "span = 50\n",
    "for i in range(len(episode_reward)):\n",
    "    if i>=span: sum_reward -= episode_reward[i-span]\n",
    "    sum_reward += episode_reward[i]\n",
    "    if i>=span: avg_reward.append(sum_reward/span)\n",
    "plt.plot(avg_reward)"
   ]
  },
  {
   "cell_type": "code",
   "execution_count": 29,
   "id": "inclusive-oklahoma",
   "metadata": {},
   "outputs": [
    {
     "data": {
      "text/plain": [
       "[<matplotlib.lines.Line2D at 0x24c2572db50>]"
      ]
     },
     "execution_count": 29,
     "metadata": {},
     "output_type": "execute_result"
    },
    {
     "data": {
      "image/png": "[encoded data removed]",
      "text/plain": [
       "<Figure size 432x288 with 1 Axes>"
      ]
     },
     "metadata": {
      "needs_background": "light"
     },
     "output_type": "display_data"
    }
   ],
   "source": [
    "avg_reward = []\n",
    "sum_reward = 0\n",
    "span = 10\n",
    "for i in range(len(episode_reward)):\n",
    "    if i>=span: sum_reward -= episode_reward[i-span]\n",
    "    sum_reward += episode_reward[i]\n",
    "    if i>=span: avg_reward.append(sum_reward/span)\n",
    "plt.plot(avg_reward)"
   ]
  },
  {
   "cell_type": "code",
   "execution_count": 19,
   "id": "vocal-rendering",
   "metadata": {},
   "outputs": [],
   "source": [
    "# agent.save_weights('ddpg_{}_weights.h5f'.format('32_3_rays_final'), overwrite=True)\n",
    "# actor.save_weights('actor_32_3_rays_final.h5', overwrite=True) \n",
    "# critic.save_weights('critic_32_3_rays_final.h5', overwrite=True)"
   ]
  },
  {
   "cell_type": "code",
   "execution_count": 1,
   "id": "absent-atlanta",
   "metadata": {},
   "outputs": [
    {
     "ename": "NameError",
     "evalue": "name 'env' is not defined",
     "output_type": "error",
     "traceback": [
      "\u001b[1;31m---------------------------------------------------------------------------\u001b[0m",
      "\u001b[1;31mNameError\u001b[0m                                 Traceback (most recent call last)",
      "\u001b[1;32m<ipython-input-1-635a6e0ba164>\u001b[0m in \u001b[0;36m<module>\u001b[1;34m\u001b[0m\n\u001b[1;32m----> 1\u001b[1;33m \u001b[0menv\u001b[0m\u001b[1;33m.\u001b[0m\u001b[0mmake_obstacles\u001b[0m\u001b[1;33m(\u001b[0m\u001b[1;33m)\u001b[0m\u001b[1;33m\u001b[0m\u001b[1;33m\u001b[0m\u001b[0m\n\u001b[0m\u001b[0;32m      2\u001b[0m \u001b[0menv\u001b[0m\u001b[1;33m.\u001b[0m\u001b[0mreset\u001b[0m\u001b[1;33m(\u001b[0m\u001b[1;33m)\u001b[0m\u001b[1;33m\u001b[0m\u001b[1;33m\u001b[0m\u001b[0m\n",
      "\u001b[1;31mNameError\u001b[0m: name 'env' is not defined"
     ]
    }
   ],
   "source": [
    "env.make_obstacles()\n",
    "env.reset()"
   ]
  },
  {
   "cell_type": "code",
   "execution_count": 19,
   "id": "infectious-warren",
   "metadata": {},
   "outputs": [
    {
     "name": "stdout",
     "output_type": "stream",
     "text": [
      "Testing for 10 episodes ...\n"
     ]
    },
    {
     "name": "stderr",
     "output_type": "stream",
     "text": [
      "C:\\Users\\User\\.conda\\envs\\tfgpu\\lib\\site-packages\\tensorflow\\python\\keras\\engine\\training.py:2325: UserWarning: `Model.state_updates` will be removed in a future version. This property should not be used in TensorFlow 2.0, as `updates` are applied automatically.\n",
      "  warnings.warn('`Model.state_updates` will be removed in a future version. '\n"
     ]
    },
    {
     "name": "stdout",
     "output_type": "stream",
     "text": [
      "Episode 1: reward: 37.311, steps: 434\n",
      "Episode 2: reward: 37.191, steps: 404\n",
      "0 0 64.6430942781154\n",
      "Episode 3: reward: 23.298, steps: 372\n",
      "0 0 23.051655594175504\n",
      "Episode 4: reward: 2.783, steps: 154\n",
      "Episode 5: reward: 37.495, steps: 513\n",
      "Episode 6: reward: 37.238, steps: 415\n",
      "Episode 7: reward: 37.384, steps: 548\n",
      "Episode 8: reward: 37.103, steps: 407\n",
      "0 0 57.608761726355645\n",
      "Episode 9: reward: 16.763, steps: 360\n",
      "Episode 10: reward: 37.264, steps: 462\n"
     ]
    }
   ],
   "source": [
    "time.sleep(10.)\n",
    "_ = agent.test(env, nb_episodes=10, visualize=True)"
   ]
  },
  {
   "cell_type": "code",
   "execution_count": null,
   "id": "intensive-virtue",
   "metadata": {},
   "outputs": [],
   "source": [
    "# actor.save_weights('actor_32_3_rays_final.h5', overwrite=True) \n",
    "# critic.save_weights('critic_32_3_rays_final.h5', overwrite=True)"
   ]
  },
  {
   "cell_type": "code",
   "execution_count": 16,
   "id": "revolutionary-pixel",
   "metadata": {},
   "outputs": [],
   "source": [
    "actor.load_weights('actor_32_3_rays_final.h5')\n",
    "critic.load_weights('critic_32_3_rays_final.h5')"
   ]
  },
  {
   "cell_type": "code",
   "execution_count": 17,
   "id": "periodic-malaysia",
   "metadata": {},
   "outputs": [],
   "source": [
    "agent.load_weights('ddpg_{}_weights.h5f'.format('32_3_rays_final'))"
   ]
  },
  {
   "cell_type": "code",
   "execution_count": null,
   "id": "spanish-intranet",
   "metadata": {},
   "outputs": [],
   "source": [
    "X = []\n",
    "Y = []"
   ]
  },
  {
   "cell_type": "code",
   "execution_count": null,
   "id": "ecological-world",
   "metadata": {},
   "outputs": [],
   "source": [
    "c = 1\n",
    "observation = env.reset()\n",
    "x = []\n",
    "y = []\n",
    "while c:\n",
    "    keys = p.getKeyboardEvents()\n",
    "    done = 0\n",
    "    for k,v in keys.items():\n",
    "        if (k == ord('i') and (v&p.KEY_IS_DOWN   )):\n",
    "            action = [0]\n",
    "            x.append(observation)\n",
    "            y.append(0)\n",
    "            observation, reward, done, info = env.step(action)\n",
    "            env.render()\n",
    "        elif (k == ord('j') and (v&p.KEY_IS_DOWN   )):\n",
    "            val = 0.5 + random.random()/5 - 0.1\n",
    "            action = [val]\n",
    "            x.append(observation)\n",
    "            y.append(val)\n",
    "            observation, reward, done, info = env.step(action)\n",
    "            env.render()\n",
    "        elif (k == ord('l') and (v&p.KEY_IS_DOWN   )):\n",
    "            val = -0.5 + random.random()/5 - 0.1\n",
    "            action = [val]\n",
    "            x.append(observation)\n",
    "            y.append(val)\n",
    "            observation, reward, done, info = env.step(action)\n",
    "            env.render()\n",
    "        elif (k == ord('u') and (v&p.KEY_IS_DOWN   )):\n",
    "            val = 1 + random.random()/5 - 0.1\n",
    "            action = [val]\n",
    "            x.append(observation)\n",
    "            y.append(val)\n",
    "            observation, reward, done, info = env.step(action)\n",
    "            env.render()\n",
    "        elif (k == ord('o') and (v&p.KEY_IS_DOWN   )):\n",
    "            val = -1 + random.random()/5 - 0.1\n",
    "            action = [val]\n",
    "            x.append(observation)\n",
    "            y.append(val)\n",
    "            observation, reward, done, info = env.step(action)\n",
    "            env.render()\n",
    "        elif (k == ord('r') and (v&p.KEY_IS_DOWN   )):\n",
    "            c = 0\n",
    "        if done:\n",
    "            if env.completed==1:\n",
    "                X.append(x)\n",
    "                Y.append(y)\n",
    "            x = []\n",
    "            y = []\n",
    "            observation = env.reset()\n",
    "            #c = 0\n",
    "    time.sleep(1/100)"
   ]
  },
  {
   "cell_type": "code",
   "execution_count": null,
   "id": "mediterranean-entrance",
   "metadata": {},
   "outputs": [],
   "source": [
    "len(Y), len(Y[49])"
   ]
  },
  {
   "cell_type": "code",
   "execution_count": null,
   "id": "serial-isaac",
   "metadata": {},
   "outputs": [],
   "source": [
    "plt.plot([len(x) for x in X])"
   ]
  },
  {
   "cell_type": "code",
   "execution_count": null,
   "id": "artistic-gather",
   "metadata": {},
   "outputs": [],
   "source": [
    "for i in range(len(X)):\n",
    "    print(i, len(X[i]), len(Y[i]))"
   ]
  },
  {
   "cell_type": "code",
   "execution_count": null,
   "id": "innovative-nelson",
   "metadata": {},
   "outputs": [],
   "source": [
    "# import gym\n",
    "# import numpy as np\n",
    "\n",
    "# from stable_baselines.ddpg.policies import MlpPolicy\n",
    "# from stable_baselines.common.noise import NormalActionNoise, OrnsteinUhlenbeckActionNoise, AdaptiveParamNoiseSpec\n",
    "# from stable_baselines import DDPG\n",
    "\n",
    "# # the noise objects for DDPG\n",
    "# n_actions = env.action_space.shape[-1]\n",
    "# param_noise = None\n",
    "# action_noise = OrnsteinUhlenbeckActionNoise(mean=np.zeros(n_actions), sigma=float(0.5) * np.ones(n_actions))\n",
    "\n",
    "# model = DDPG(MlpPolicy, env, verbose=1, param_noise=param_noise, action_noise=action_noise)\n",
    "# model.learn(total_timesteps=400000)"
   ]
  },
  {
   "cell_type": "code",
   "execution_count": null,
   "id": "attached-kazakhstan",
   "metadata": {},
   "outputs": [],
   "source": [
    "X_train = []\n",
    "y_train = []\n",
    "for i in range(len(X)):\n",
    "    for j in range(len(X[i])):\n",
    "        X_train.append(X[i][j])\n",
    "        y_train.append(Y[i][j])\n",
    "        \n",
    "X_train = np.array(X_train)\n",
    "y_train = np.array(y_train)\n",
    "X_train.shape, y_train.shape"
   ]
  },
  {
   "cell_type": "code",
   "execution_count": null,
   "id": "little-biography",
   "metadata": {},
   "outputs": [],
   "source": [
    "# np.save('X_train.npy', X_train)\n",
    "# np.save('y_train.npy', y_train)"
   ]
  },
  {
   "cell_type": "code",
   "execution_count": null,
   "id": "surface-smart",
   "metadata": {},
   "outputs": [],
   "source": [
    "X_train = np.expand_dims(X_train, axis=1)"
   ]
  },
  {
   "cell_type": "code",
   "execution_count": null,
   "id": "inappropriate-complex",
   "metadata": {},
   "outputs": [],
   "source": [
    "X_train.shape, y_train.shape"
   ]
  },
  {
   "cell_type": "code",
   "execution_count": null,
   "id": "fabulous-secret",
   "metadata": {},
   "outputs": [],
   "source": [
    "actor.fit(X_train, y_train, epochs = 50)"
   ]
  },
  {
   "cell_type": "code",
   "execution_count": null,
   "id": "ordered-heater",
   "metadata": {},
   "outputs": [],
   "source": []
  }
 ],
 "metadata": {
  "kernelspec": {
   "display_name": "Python 3",
   "language": "python",
   "name": "python3"
  },
  "language_info": {
   "codemirror_mode": {
    "name": "ipython",
    "version": 3
   },
   "file_extension": ".py",
   "mimetype": "text/x-python",
   "name": "python",
   "nbconvert_exporter": "python",
   "pygments_lexer": "ipython3",
   "version": "3.8.8"
  }
 },
 "nbformat": 4,
 "nbformat_minor": 5
}
