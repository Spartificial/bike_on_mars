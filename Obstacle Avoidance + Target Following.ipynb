{
 "cells": [
  {
   "cell_type": "code",
   "execution_count": 2,
   "id": "inclusive-bracelet",
   "metadata": {},
   "outputs": [],
   "source": [
    "import gym\n",
    "import numpy as np\n",
    "import matplotlib.pyplot as plt\n",
    "%matplotlib inline\n",
    "import pybullet as p\n",
    "import pybullet_data\n",
    "import time\n",
    "import random\n",
    "import cv2\n",
    "from decimal import Decimal\n",
    "import os\n",
    "import tensorflow as tf\n",
    "tf.compat.v1.disable_eager_execution()"
   ]
  },
  {
   "cell_type": "code",
   "execution_count": 6,
   "id": "documented-feelings",
   "metadata": {},
   "outputs": [],
   "source": [
    "# Bicycle and its environment\n",
    "\n",
    "\"\"\"\n",
    "Action Space = 1 (position of handlebar)\n",
    "Obs Space = 25\n",
    "\"\"\"\n",
    "\n",
    "#del env\n",
    "cv2.destroyAllWindows()\n",
    "\n",
    "class CycleBalancingEnv(gym.Env):\n",
    "    metadata = {'render.modes': ['human']}  \n",
    "  \n",
    "    def __init__(self):\n",
    "        # Out cycle has only 1 action spaces i.e. the position of the handlebar\n",
    "        self.action_space = gym.spaces.box.Box(\n",
    "            low=-1 * np.ones(1, dtype=np.float32),\n",
    "            high=1 * np.ones(1, dtype=np.float32))\n",
    "        # Obervation space\n",
    "        self.observation_space = gym.spaces.box.Box(\n",
    "            low=-1 * np.ones(25, dtype=np.float32),\n",
    "            high=1 * np.ones(25, dtype=np.float32))\n",
    "        self.np_random, _ = gym.utils.seeding.np_random()\n",
    "\n",
    "        if not p.isConnected():\n",
    "            self.client = p.connect(p.GUI) # Physics + Visual\n",
    "            #self.client = p.connect(p.DIRECT) # Only Physics, no visualization. For faster training\n",
    "        else:\n",
    "            self.client = 1\n",
    "            \n",
    "        p.resetSimulation(self.client)\n",
    "        p.setRealTimeSimulation(0)\n",
    "        p.setAdditionalSearchPath(pybullet_data.getDataPath())\n",
    "        \n",
    "        self.n_target = 100 #Number of obstacles\n",
    "        self.min_target_dist = 15 #Minimum distance of obstacles from bike\n",
    "        self.target_span = 100 #Maximum distance of obstacles from bike\n",
    "        self.sphere_dist = 1.5\n",
    "        \n",
    "        self.pole = []\n",
    "        self.plane=p.loadURDF(\"plane.urdf\",[0,0,0], useFixedBase=True) #Loading the Plane Surface\n",
    "        self.bike = 0 #Index of the Bike\n",
    "        self.angle_span = 20 #The Angle between two consecutive rays\n",
    "        self.n_episodes = 0 #Count of the number of episodes\n",
    "        self.rays_distance = 30 #The max length of the rays\n",
    "        self.z_balance = -0.25 #Offset between the Bike's center of gravity and the height from which rays are passed\n",
    "        self.z_target = -1\n",
    "        self.target_body = -1\n",
    "        self.width = 1920 #Width of Visual Output\n",
    "        self.height = 1080 #Height of Visual Output\n",
    "        self.video=cv2.VideoWriter('video.avi',-1,30,(self.width,self.height)) #For saving the output\n",
    "        self.img_cnt = 0\n",
    "        \n",
    "        self.make_obstacles()\n",
    "        self.reset()\n",
    "        #self.show_img()\n",
    "        \n",
    "    #Helper (Debugger) function to show the distance traveled by rays in all direction\n",
    "    def show_img(self):\n",
    "        \n",
    "        self.img = np.zeros((800,800,3), dtype='float32')\n",
    "        shift = 400\n",
    "        multiply = 400\n",
    "        ls = p.getBasePositionAndOrientation(self.bike)\n",
    "        bike_x = ls[0][0]\n",
    "        bike_y = ls[0][1]\n",
    "        handlebar_rotation = p.getEulerFromQuaternion( p.getLinkState(self.bike, 0)[1] )[2]\n",
    "        mini = 1000\n",
    "        for deg in range(1, 361, 1):\n",
    "            mini = min(mini, self.dist[deg-1])\n",
    "            if deg%self.angle_span==0:\n",
    "                rad = Decimal( Decimal(deg * np.pi/180 + handlebar_rotation)%Decimal(2*np.pi) + Decimal(2*np.pi))%Decimal(2*np.pi)\n",
    "                rad = float(rad)\n",
    "                start = (int(shift + bike_x + self.sphere_dist*np.cos(rad)), int(shift + bike_y + self.sphere_dist*np.sin(rad)))\n",
    "                end = (int(shift + bike_x + mini*multiply*np.cos(rad)), int(shift + bike_y + mini*multiply*np.sin(rad)))\n",
    "                cv2.ellipse(self.img, start, (int(mini*multiply),int(mini*multiply)), 0, (rad*180/np.pi)-self.angle_span, (rad*180/np.pi), (0,0,255), -1)\n",
    "                mini = 1000\n",
    "            \n",
    "        cv2.imshow('img', cv2.rotate(cv2.transpose(self.img), cv2.ROTATE_180))\n",
    "        #cv2.imshow('img', self.img)\n",
    "        cv2.waitKey(1)\n",
    "        #cv2.destroyAllWindows()\n",
    "\n",
    "    \n",
    "    def apply_action(self, action):\n",
    "        p.setJointMotorControl2(self.bike, 0, p.POSITION_CONTROL, targetPosition=action[0], maxVelocity=5) # Apply Position control to Handlebar\n",
    "    \n",
    "    \n",
    "    def apply_torque_wheels(self):\n",
    "        p.setJointMotorControl2(self.bike,1,p.TORQUE_CONTROL , force=(2.5+0)*10000) # Apply Toruqe to Back Wheel\n",
    "        p.setJointMotorControl2(self.bike,2,p.TORQUE_CONTROL , force=(2.5+0)*10000) # Apply Toruqe to Front Wheel\n",
    "        \n",
    "        \n",
    "    def gyroscope_torque(self):\n",
    "        ls = p.getBasePositionAndOrientation(self.bike) # ls[0]=Postion of cycle, ls[1] = Orientation of cycle\n",
    "        val = p.getEulerFromQuaternion(ls[1])[0] - 1.57 # Calculating inclination of cycle from vertical\n",
    "        p.applyExternalTorque(self.bike, -1, [-1000000*val, 0, 0], flags=p.WORLD_FRAME)\n",
    "        \n",
    "        \n",
    "    def add_pos_orien(self):\n",
    "        ls = p.getBasePositionAndOrientation(self.bike) # ls[0]=Postion of cycle, ls[1] = Orientation of cycle\n",
    "             \n",
    "        self.bike_x = ls[0][0]\n",
    "        self.bike_y = ls[0][1]\n",
    "        \n",
    "        # Calculating the position, orientation, velocity of all the joints of the cycle\n",
    "        self.obs.append(np.arctan( (self.target_x-self.bike_x)/(self.target_y-self.bike_y+0.00001) ))\n",
    "        ls = p.getBasePositionAndOrientation(self.bike)\n",
    "        self.obs += p.getEulerFromQuaternion(ls[1])\n",
    "        #self.obs.append(ls[0][0]/self.target_span)\n",
    "        #self.obs.append(ls[0][1]/self.target_span)\n",
    "        self.obs.append((ls[0][0] - self.target_x)/self.target_span)\n",
    "        self.obs.append((ls[0][1] - self.target_y)/self.target_span)\n",
    "        handlebar_rotation = p.getEulerFromQuaternion( p.getLinkState(self.bike, 0)[1] )[2]\n",
    "        self.obs.append(handlebar_rotation)\n",
    "        #print(obs)\n",
    "        \n",
    "    def add_dist_by_rays(self):\n",
    "        ls = p.getBasePositionAndOrientation(self.bike) # ls[0]=Postion of cycle, ls[1] = Orientation of cycle\n",
    "        z = ls[0][2] + self.z_balance\n",
    "        bike_x = ls[0][0]\n",
    "        bike_y = ls[0][1]\n",
    "        reward_2 = 0\n",
    "        #cnt = 0\n",
    "        ray_from = []\n",
    "        ray_to = []        \n",
    "        handlebar_rotation = p.getEulerFromQuaternion( p.getLinkState(self.bike, 0)[1] )[2]\n",
    "        for deg in range(1, 361, 5):\n",
    "            rad = Decimal( Decimal(deg * np.pi/180 + handlebar_rotation)%Decimal(2*np.pi) + Decimal(2*np.pi))%Decimal(2*np.pi)\n",
    "            rad = float(rad)\n",
    "            for i in np.arange(0, 3, 1):\n",
    "                for j in np.arange(-4, 1, 0.5):\n",
    "                    ray_from.append((bike_x + self.sphere_dist*np.cos(rad), bike_y + self.sphere_dist*np.sin(rad), z+i))\n",
    "                    ray_to.append((bike_x + self.rays_distance*np.cos(rad), bike_y + self.rays_distance*np.sin(rad), z+j))\n",
    "        \n",
    "        rays = p.rayTestBatch(ray_from, ray_to)\n",
    "        mini = 1000\n",
    "        self.dist = []\n",
    "        mini = 1000\n",
    "        #assert(len(rays)==360)\n",
    "        cnt = 0\n",
    "        for deg in range(1, 361, 5):\n",
    "            dist = 1\n",
    "            for i in np.arange(0, 3, 1):\n",
    "                for j in np.arange(-4, 1, 0.5):\n",
    "                    tmp = rays[cnt]\n",
    "                    cnt += 1\n",
    "                    if tmp[0]!=self.plane: dist = min(dist, tmp[2])\n",
    "            if dist<mini:\n",
    "                mini = dist\n",
    "            self.dist.append(dist)\n",
    "            if deg!=0 and (deg-1)%self.angle_span==0:\n",
    "                self.obs.append(mini)\n",
    "                mini = 1000\n",
    "                \n",
    "    def get_obs(self):\n",
    "        #For storing all the observations which will be used by the agent to decide the next action\n",
    "        self.obs = [] \n",
    "        \n",
    "        #Add bike's position, orientation to the observation space\n",
    "        self.add_pos_orien() \n",
    "        \n",
    "        #Add info from rays to the observation space (i.e whether rays collided with ant object or not)\n",
    "        self.add_dist_by_rays()\n",
    "        \n",
    "        self.obs = np.array(self.obs, dtype=np.float32)\n",
    "        \n",
    "    def get_collision(self):\n",
    "        tmp = p.getContactPoints(self.bike)\n",
    "        reward_2 = 0\n",
    "        for i in range(len(tmp)):\n",
    "            if tmp[i][2]!=0:\n",
    "                reward_2 = -700\n",
    "                self.done = True\n",
    "        return reward_2\n",
    "    \n",
    "    def check_outside_range(self):\n",
    "        dist_2 = np.sqrt((self.bike_x)**2 + abs(self.bike_y)**2)\n",
    "        reward_3 = 0\n",
    "        if dist_2 > (self.target_span+30): \n",
    "            self.done = True\n",
    "            reward_3 = -100\n",
    "            print(\"Outside Range!\")\n",
    "        if self.time%10==0 and dist_2>self.distance: \n",
    "            self.distance = dist_2\n",
    "            \n",
    "        if self.time>999:\n",
    "            reward_3 = -500\n",
    "            \n",
    "        return reward_3\n",
    "        \n",
    "    def prevent_rotating_in_a_cycle(self):\n",
    "        ls = p.getBasePositionAndOrientation(self.bike)\n",
    "        value = p.getEulerFromQuaternion(p.getLinkState(self.bike, 0)[1])[2] - p.getEulerFromQuaternion(ls[1])[2]\n",
    "        if value<-1: value += 2*np.pi\n",
    "        if value>1: value -= 2*np.pi\n",
    "        #print(value)\n",
    "        if value < -0.3:\n",
    "            self.left += 0.1\n",
    "            self.right = 0\n",
    "        elif value > 0.3:\n",
    "            self.left = 0\n",
    "            self.right += 0.1\n",
    "        else:\n",
    "            self.left = 0\n",
    "            self.right = 0\n",
    "            \n",
    "        self.neg_reward = 0\n",
    "        if self.left>10 or self.right>10:\n",
    "            print(\"Slow!!!\")\n",
    "            self.neg_reward = -700\n",
    "            self.done = True\n",
    "            \n",
    "    def check_target_distance(self):\n",
    "        val = self.target_span\n",
    "        reward_1 = 0\n",
    "        dist_3 = np.sqrt( (self.bike_x - self.target_x)**2 + (self.bike_y - self.target_y)**2 )\n",
    "        if dist_3 < self.target_distance:\n",
    "            reward_1 = 100 + self.target_reward\n",
    "            self.target_distance -= 5\n",
    "            self.target_reward = min(300, self.target_reward*2)\n",
    "        return reward_1\n",
    "    \n",
    "    def check_completion(self):\n",
    "        self.completed = 0\n",
    "        dist_3 = np.sqrt( (self.bike_x - self.target_x)**2 + (self.bike_y - self.target_y)**2 )\n",
    "        if dist_3 < 10:\n",
    "            reward_1 = 500\n",
    "            self.completed = 1\n",
    "            self.done = True\n",
    "            print(\"DONE!\")\n",
    "            print(dist_3, self.target_distance)\n",
    "            self.make_obstacles()\n",
    "            \n",
    "    def get_reward(self, reward_1, reward_2, reward_3):\n",
    "        ls = p.getBasePositionAndOrientation(self.bike)\n",
    "        return reward_1 - abs(ls[0][0] - self.target_x)/10. - abs(ls[0][1] - self.target_y)/10. + self.neg_reward - self.left - self.right + reward_3 + reward_2\n",
    "    \n",
    "    def step(self, action):\n",
    "        \n",
    "        self.apply_action(action)\n",
    "        \n",
    "        for i in range(3):\n",
    "            self.apply_torque_wheels() #Apply Torque to the wheels (i.e increase velocity)\n",
    "            self.gyroscope_torque()#Balancing by applying Torque (In real world, this will be done by gyroscope) \n",
    "            p.stepSimulation()\n",
    "            self.render()\n",
    "            \n",
    "            #Saving to the output video\n",
    "            #img = p.getCameraImage(self.width, self.height, renderer=p.ER_BULLET_HARDWARE_OPENGL)\n",
    "            #img = cv2.cv2.UMat(np.array(img))\n",
    "            #img = cv2.cvtColor(img, cv2.COLOR_RGBA2RGB)\n",
    "            #print(img[2].shape)\n",
    "            #cv2.imwrite('img_'+str(self.img_cnt), img)\n",
    "        \n",
    "        self.get_obs()\n",
    "        \n",
    "        reward_2 = self.get_collision()\n",
    "        \n",
    "        self.time += 1 # Adding 1 to the time for which the current episode has been running\n",
    "        \n",
    "        # Terminating the episode if the cycle covers less than 1 units distance in 200 timesteps\n",
    "        reward_3 = self.check_outside_range()\n",
    "            \n",
    "        self.prevent_rotating_in_a_cycle()\n",
    "            \n",
    "        reward_1 = self.check_target_distance()\n",
    "                    \n",
    "        self.check_completion()    \n",
    "        \n",
    "        # Calculating the total reward\n",
    "        reward = self.get_reward(reward_1, reward_2, reward_3)\n",
    "\n",
    "        return self.obs, reward/100, self.done, dict()\n",
    "\n",
    "\n",
    "    def load_bike(self):\n",
    "        if self.bike!=0:\n",
    "            p.removeBody(self.bike)\n",
    "        if self.target_body!=-1:\n",
    "            p.removeBody(self.target_body)\n",
    "        # Loading the cycle\n",
    "        self.bike_x = 0 # random.randint(-5, 5) # X position of the cycle\n",
    "        self.bike_y = 0 # random.randint(-5, 5) # Y position of the cycle\n",
    "        self.bike=p.loadURDF(\"bike_2.urdf.xml\",[self.bike_x, self.bike_y,0], p.getQuaternionFromEuler([0,0, random.random()*2*np.pi]),  useFixedBase=False)\n",
    "        \n",
    "    def load_target(self):\n",
    "        for i in range(1):\n",
    "            self.target_x = 0\n",
    "            self.target_y = 0\n",
    "            dist = np.sqrt( (self.bike_x - self.target_x)**2 + (self.bike_y - self.target_y)**2 )\n",
    "            while dist<(self.target_span) or dist>(self.target_span+20):\n",
    "                self.target_x = random.randint(int(self.bike_x) - self.target_span, int(self.bike_x) + self.target_span)\n",
    "                self.target_y = random.randint(int(self.bike_y) - self.target_span, int(self.bike_y) + self.target_span)\n",
    "                dist = np.sqrt( (self.bike_x - self.target_x)**2 + (self.bike_y - self.target_y)**2 )\n",
    "            self.target_body = p.loadURDF(r\"cube.urdf\",[self.target_x, self.target_y, 10], [0,0,0,1], useFixedBase=True, globalScaling=5.0)\n",
    "        textureId_3 = p.loadTexture('Texture/green.jpg')\n",
    "        p.changeVisualShape(self.target_body, -1, textureUniqueId=textureId_3)\n",
    "        self.target_distance = (np.sqrt( (self.bike_x - self.target_x)**2 + (self.bike_y - self.target_y)**2))//10 * 10\n",
    "        self.target_reward = 128\n",
    "    \n",
    "    def add_dynamics(self):\n",
    "        # Adding friction and other dynamics\n",
    "        p.changeDynamics(self.plane, -1, lateralFriction=5, angularDamping=1)\n",
    "        p.changeDynamics(self.bike, 1, mass=100)\n",
    "        #p.changeDynamics(self.bike, 2, mass=100, lateralFriction=1, angularDamping=3, rollingFriction=0.01)\n",
    "        p.changeDynamics(self.bike, -1, lateralFriction=5, angularDamping=1)\n",
    "        \n",
    "        p.setGravity(0, 0, -250) # Setting the gravity\n",
    "    \n",
    "    def reset(self):\n",
    "        \n",
    "        self.n_episodes += 1 #Increase the number of episodes by 1\n",
    "        \n",
    "        #Change obstacles's position after every 20 episodes for robust training\n",
    "        if self.n_episodes==20:\n",
    "            self.make_obstacles()\n",
    "            self.n_episodes = 0\n",
    "        \n",
    "        self.load_bike()\n",
    "        \n",
    "        self.load_target()\n",
    "        \n",
    "        for i in range(10):\n",
    "            p.stepSimulation()\n",
    "            \n",
    "        self.add_dynamics()\n",
    "        \n",
    "        self.done=False\n",
    "        self.time = 0\n",
    "        self.distance = np.sqrt((self.bike_x)**2 + abs(self.bike_y)**2)\n",
    "        self.neg_reward = 0\n",
    "        \n",
    "        # Calculating the initial observation space\n",
    "        self.get_obs()\n",
    "        \n",
    "        self.cnt = 0\n",
    "        self.left = 0\n",
    "        self.right = 0\n",
    "        self.completed = 0\n",
    "        \n",
    "        return self.obs\n",
    "\n",
    "    #Load the Obstacles\n",
    "    def make_obstacles(self):\n",
    "        \n",
    "        p.resetSimulation(self.client)\n",
    "        p.setRealTimeSimulation(0)\n",
    "        p.setAdditionalSearchPath(pybullet_data.getDataPath())\n",
    "        #self.plane=p.loadURDF(\"plane.urdf\",[0,0,0], useFixedBase=True)\n",
    "        mul = 100\n",
    "        height = 2\n",
    "        visualShift = [0, 0, 0]\n",
    "        shift = [0, 0, 0]\n",
    "        meshScale=[0.1*mul, 0.1*mul, 0.1*mul*height]\n",
    "        groundColId = p.createCollisionShape(shapeType=p.GEOM_MESH, \n",
    "                                                  fileName=\"terrain.obj\", \n",
    "                                                  collisionFramePosition=shift,\n",
    "                                                  meshScale=meshScale,\n",
    "                                                  flags=p.GEOM_FORCE_CONCAVE_TRIMESH)\n",
    "        groundVisID = p.createVisualShape(shapeType=p.GEOM_MESH, \n",
    "                                            fileName=\"terrain.obj\", \n",
    "                                            #rgbaColor=[0.7,0.3,0.1,1],\n",
    "                                            rgbaColor=[1,1,1,1],\n",
    "                                            specularColor=[0.4,.4,0],\n",
    "                                            visualFramePosition=visualShift,\n",
    "                                            meshScale=meshScale)\n",
    "        self.plane = p.createMultiBody(baseMass=0,\n",
    "                                              baseInertialFramePosition=[0,0,0],\n",
    "                                              baseCollisionShapeIndex=groundColId, \n",
    "                                              baseVisualShapeIndex=groundVisID, \n",
    "                                              basePosition=[0,0,0], \n",
    "                                              useMaximalCoordinates=True)\n",
    "        textureId = p.loadTexture('Texture/surface3.jpg')\n",
    "        p.changeVisualShape(self.plane, -1, textureUniqueId=textureId)\n",
    "        self.bike = 0\n",
    "            \n",
    "        self.bike_x = 0\n",
    "        self.bike_y = 0\n",
    "        self.pole = []\n",
    "        textureId = p.loadTexture('Texture/surface2.jpg')\n",
    "        for i in range(self.n_target):\n",
    "            target_x = self.bike_x\n",
    "            target_y = self.bike_y\n",
    "            while (np.sqrt( (self.bike_x - target_x)**2 + (self.bike_y - target_y)**2 )) < self.min_target_dist:\n",
    "                target_x = random.randint(int(self.bike_x) - self.target_span, int(self.bike_x) + self.target_span)\n",
    "                target_y = random.randint(int(self.bike_y) - self.target_span, int(self.bike_y) + self.target_span)\n",
    "            #self.pole.append( p.loadURDF(\"C:/Users/User/Documents/GitHub/bullet3/examples/pybullet/gym/pybullet_data/cube.urdf\",[target_x, target_y, 4], [0,0,0,1], useFixedBase=True, globalScaling=1+ 3*random.random()) )\n",
    "            self.pole.append(self.make_stone(target_x, target_y))\n",
    "            #p.changeDynamics(self.pole[i], -1, mass=1000)\n",
    "            p.changeVisualShape(self.pole[i], -1, textureUniqueId=textureId)\n",
    "        \n",
    "    #Load a stone simulation at position \"target_x\" and \"target_y\"\n",
    "    def make_stone(self, target_x, target_y):\n",
    "        mul = 20 + 20*random.random()\n",
    "        shift = [0, 0., 0]\n",
    "        meshScale = [0.1*mul, 0.1*mul, 0.1*mul]\n",
    "        #the visual shape and collision shape can be re-used by all createMultiBody instances (instancing)\n",
    "        visualShapeId = p.createVisualShape(shapeType=p.GEOM_MESH,\n",
    "                                            fileName=\"Rock.obj\", \n",
    "                                            rgbaColor=[1, 1, 1, 1],\n",
    "                                            specularColor=[0.4, .4, 0],\n",
    "                                            visualFramePosition=shift,\n",
    "                                            meshScale=meshScale)\n",
    "        collisionShapeId = p.createCollisionShape(shapeType=p.GEOM_MESH,\n",
    "                                                  fileName=\"Rock.obj\", \n",
    "                                                  collisionFramePosition=shift,\n",
    "                                                  meshScale=meshScale)\n",
    "        stone = p.createMultiBody(baseMass=0, baseInertialFramePosition=[0, 0, 0], baseCollisionShapeIndex=collisionShapeId, baseVisualShapeIndex=visualShapeId, basePosition=[target_x, target_y, 4], useMaximalCoordinates=False)\n",
    "        textureId = p.loadTexture('Texture/green.jpg')\n",
    "        p.changeVisualShape(stone, -1, textureUniqueId=textureId)\n",
    "        return stone\n",
    "        \n",
    "    def render(self, mode='human'):\n",
    "                    \n",
    "        if self.bike<=0: return\n",
    "        \n",
    "        ls = p.getLinkState(self.bike, 0)\n",
    "        handlebar_rotation = p.getEulerFromQuaternion( ls[5] )[2] * 180/np.pi - 90\n",
    "        handlebar_rotation = Decimal( Decimal(handlebar_rotation) + Decimal(360))%Decimal(360)\n",
    "        distance=5\n",
    "        yaw = 0\n",
    "        humanPos, humanOrn = p.getBasePositionAndOrientation(self.bike)\n",
    "        humanBaseVel = p.getBaseVelocity(self.bike)\n",
    "        #print(\"frame\",frame, \"humanPos=\",humanPos, \"humanVel=\",humanBaseVel)\n",
    "        camInfo = p.getDebugVisualizerCamera()\n",
    "        curTargetPos = camInfo[11]\n",
    "        distance = camInfo[10]\n",
    "        yaw = camInfo[8]\n",
    "        pitch = camInfo[9]\n",
    "        #targetPos = [0.95*curTargetPos[0]+0.05*ls[0][0],0.95*curTargetPos[1]+0.05*ls[0][1],ls[0][2]+1]\n",
    "        targetPos = [ls[0][0], ls[0][1], ls[0][2]+1]\n",
    "        \n",
    "        p.resetDebugVisualizerCamera(1, 0.99*yaw + 0.01*float(handlebar_rotation) ,0,targetPos)\n",
    "\n",
    "    def close(self):\n",
    "        p.disconnect(self.client)\n",
    "\n",
    "    def seed(self, seed=None):\n",
    "        self.np_random, seed = gym.utils.seeding.np_random(seed)\n",
    "        return [seed]"
   ]
  },
  {
   "cell_type": "code",
   "execution_count": 7,
   "id": "opening-departure",
   "metadata": {},
   "outputs": [
    {
     "data": {
      "text/plain": [
       "(25,)"
      ]
     },
     "execution_count": 7,
     "metadata": {},
     "output_type": "execute_result"
    }
   ],
   "source": [
    "env = CycleBalancingEnv()\n",
    "env.reset().shape"
   ]
  },
  {
   "cell_type": "code",
   "execution_count": 8,
   "id": "artificial-price",
   "metadata": {},
   "outputs": [
    {
     "name": "stdout",
     "output_type": "stream",
     "text": [
      "(25,)\n",
      "[-0.82951134]\n"
     ]
    }
   ],
   "source": [
    "print(env.observation_space.sample().shape)\n",
    "print(env.action_space.sample())"
   ]
  },
  {
   "cell_type": "code",
   "execution_count": 9,
   "id": "upset-release",
   "metadata": {},
   "outputs": [
    {
     "name": "stdout",
     "output_type": "stream",
     "text": [
      "Episode:1 Score:-44.63869411348363\n"
     ]
    }
   ],
   "source": [
    "episodes = 1\n",
    "for episode in range(1, episodes+1):\n",
    "    state = env.reset()\n",
    "    done = False\n",
    "    score = 0 \n",
    "    \n",
    "    while not done:\n",
    "        env.render()\n",
    "        action = env.action_space.sample()\n",
    "        action = [random.random()/3]\n",
    "        state, reward, done, info = env.step(action)\n",
    "        score+=reward\n",
    "        time.sleep(1/240.)\n",
    "        #print(state)\n",
    "        #clear_output(wait=True)\n",
    "    print('Episode:{} Score:{}'.format(episode, score))\n",
    "#env.close()"
   ]
  },
  {
   "cell_type": "code",
   "execution_count": 18,
   "id": "rolled-highway",
   "metadata": {},
   "outputs": [],
   "source": [
    "import numpy as np\n",
    "from tensorflow.keras.models import Sequential\n",
    "from tensorflow.keras.layers import *\n",
    "from tensorflow.keras.optimizers import Adam\n",
    "import tensorflow as tf"
   ]
  },
  {
   "cell_type": "code",
   "execution_count": 19,
   "id": "separated-contractor",
   "metadata": {},
   "outputs": [
    {
     "data": {
      "text/plain": [
       "((25,), 1)"
      ]
     },
     "execution_count": 19,
     "metadata": {},
     "output_type": "execute_result"
    }
   ],
   "source": [
    "states = env.observation_space.shape # Shape of our observation space\n",
    "nb_actions = env.action_space.shape[0] # shape of our action space\n",
    "states, nb_actions"
   ]
  },
  {
   "cell_type": "code",
   "execution_count": 20,
   "id": "contemporary-service",
   "metadata": {},
   "outputs": [],
   "source": [
    "#del actor, critic"
   ]
  },
  {
   "cell_type": "code",
   "execution_count": 21,
   "id": "regional-gentleman",
   "metadata": {},
   "outputs": [
    {
     "name": "stdout",
     "output_type": "stream",
     "text": [
      "Model: \"sequential\"\n",
      "_________________________________________________________________\n",
      "Layer (type)                 Output Shape              Param #   \n",
      "=================================================================\n",
      "flatten (Flatten)            (None, 25)                0         \n",
      "_________________________________________________________________\n",
      "dense (Dense)                (None, 32)                832       \n",
      "_________________________________________________________________\n",
      "activation (Activation)      (None, 32)                0         \n",
      "_________________________________________________________________\n",
      "dense_1 (Dense)              (None, 32)                1056      \n",
      "_________________________________________________________________\n",
      "activation_1 (Activation)    (None, 32)                0         \n",
      "_________________________________________________________________\n",
      "dense_2 (Dense)              (None, 32)                1056      \n",
      "_________________________________________________________________\n",
      "activation_2 (Activation)    (None, 32)                0         \n",
      "_________________________________________________________________\n",
      "dense_3 (Dense)              (None, 1)                 33        \n",
      "_________________________________________________________________\n",
      "activation_3 (Activation)    (None, 1)                 0         \n",
      "=================================================================\n",
      "Total params: 2,977\n",
      "Trainable params: 2,977\n",
      "Non-trainable params: 0\n",
      "_________________________________________________________________\n",
      "None\n"
     ]
    }
   ],
   "source": [
    "# Defining our actor model for the DDPG algorithm\n",
    "\n",
    "actor = Sequential()\n",
    "actor.add(Flatten(input_shape=(1,) + env.observation_space.shape))\n",
    "# actor.add(LSTM(32, input_shape=(8,) + env.observation_space.shape))\n",
    "# actor.add(Flatten())\n",
    "actor.add(Dense(32, kernel_initializer='he_uniform'))\n",
    "actor.add(Activation('relu'))\n",
    "actor.add(Dense(32, kernel_initializer='he_uniform'))\n",
    "actor.add(Activation('relu'))\n",
    "actor.add(Dense(32, kernel_initializer='he_uniform'))\n",
    "actor.add(Activation('relu'))\n",
    "# actor.add(Reshape((1, -1)))\n",
    "# actor.add(LSTM(32))\n",
    "actor.add(Dense(nb_actions))\n",
    "actor.add(Activation('tanh'))\n",
    "print(actor.summary())"
   ]
  },
  {
   "cell_type": "code",
   "execution_count": 22,
   "id": "three-payroll",
   "metadata": {},
   "outputs": [
    {
     "name": "stdout",
     "output_type": "stream",
     "text": [
      "Model: \"model\"\n",
      "__________________________________________________________________________________________________\n",
      "Layer (type)                    Output Shape         Param #     Connected to                     \n",
      "==================================================================================================\n",
      "observation_input (InputLayer)  [(None, 1, 25)]      0                                            \n",
      "__________________________________________________________________________________________________\n",
      "action_input (InputLayer)       [(None, 1)]          0                                            \n",
      "__________________________________________________________________________________________________\n",
      "flatten_1 (Flatten)             (None, 25)           0           observation_input[0][0]          \n",
      "__________________________________________________________________________________________________\n",
      "concatenate (Concatenate)       (None, 26)           0           action_input[0][0]               \n",
      "                                                                 flatten_1[0][0]                  \n",
      "__________________________________________________________________________________________________\n",
      "dense_4 (Dense)                 (None, 32)           864         concatenate[0][0]                \n",
      "__________________________________________________________________________________________________\n",
      "activation_4 (Activation)       (None, 32)           0           dense_4[0][0]                    \n",
      "__________________________________________________________________________________________________\n",
      "dense_5 (Dense)                 (None, 32)           1056        activation_4[0][0]               \n",
      "__________________________________________________________________________________________________\n",
      "activation_5 (Activation)       (None, 32)           0           dense_5[0][0]                    \n",
      "__________________________________________________________________________________________________\n",
      "dense_6 (Dense)                 (None, 32)           1056        activation_5[0][0]               \n",
      "__________________________________________________________________________________________________\n",
      "activation_6 (Activation)       (None, 32)           0           dense_6[0][0]                    \n",
      "__________________________________________________________________________________________________\n",
      "dense_7 (Dense)                 (None, 1)            33          activation_6[0][0]               \n",
      "__________________________________________________________________________________________________\n",
      "activation_7 (Activation)       (None, 1)            0           dense_7[0][0]                    \n",
      "==================================================================================================\n",
      "Total params: 3,009\n",
      "Trainable params: 3,009\n",
      "Non-trainable params: 0\n",
      "__________________________________________________________________________________________________\n",
      "None\n"
     ]
    }
   ],
   "source": [
    "# Defining our critic network for the DDPG algorithm\n",
    "\n",
    "action_input = Input(shape=(nb_actions,), name='action_input')\n",
    "observation_input = tf.keras.Input(shape=(1,) + env.observation_space.shape, name='observation_input')\n",
    "flattened_observation = Flatten()(observation_input)\n",
    "x = Concatenate()([action_input, flattened_observation])\n",
    "x = Dense(32, kernel_initializer='he_uniform')(x)\n",
    "x = Activation('relu')(x)\n",
    "x = Dense(32, kernel_initializer='he_uniform')(x)\n",
    "x = Activation('relu')(x)\n",
    "x = Dense(32, kernel_initializer='he_uniform')(x)\n",
    "x = Activation('relu')(x)\n",
    "x = Dense(1)(x)\n",
    "x = Activation('linear')(x)\n",
    "critic = tf.keras.Model(inputs=[action_input, observation_input], outputs=x)\n",
    "print(critic.summary())"
   ]
  },
  {
   "cell_type": "code",
   "execution_count": 23,
   "id": "exclusive-mother",
   "metadata": {},
   "outputs": [],
   "source": [
    "from rl.agents import DQNAgent, SARSAAgent, DDPGAgent\n",
    "#from rl.agents.sarsa import SARSAAgent\n",
    "from rl.policy import BoltzmannQPolicy, BoltzmannGumbelQPolicy, SoftmaxPolicy,  EpsGreedyQPolicy, GreedyQPolicy, BoltzmannGumbelQPolicy\n",
    "from rl.memory import SequentialMemory\n",
    "from rl.random import OrnsteinUhlenbeckProcess\n",
    "from rl.util import *"
   ]
  },
  {
   "cell_type": "code",
   "execution_count": 24,
   "id": "oriented-german",
   "metadata": {},
   "outputs": [],
   "source": [
    "episode_reward = []"
   ]
  },
  {
   "cell_type": "code",
   "execution_count": 25,
   "id": "reduced-growing",
   "metadata": {},
   "outputs": [],
   "source": [
    "# Defining our DDPG agent\n",
    "\n",
    "memory = SequentialMemory(limit=100000, window_length=1)\n",
    "random_process = OrnsteinUhlenbeckProcess(size=nb_actions, theta= 0.1, mu=0, sigma=.2)\n",
    "agent = DDPGAgent(nb_actions=nb_actions, actor=actor, critic=critic, critic_action_input=action_input,\n",
    "                  memory=memory, nb_steps_warmup_critic=1000, nb_steps_warmup_actor=1000,\n",
    "                  random_process=random_process, gamma=0.99, target_model_update=1e-3)"
   ]
  },
  {
   "cell_type": "code",
   "execution_count": 26,
   "id": "surrounded-klein",
   "metadata": {},
   "outputs": [],
   "source": [
    "agent.compile([Adam(lr=.0001, clipnorm=1.0), Adam(lr=.001, clipnorm=1.0)], metrics=['mae'])"
   ]
  },
  {
   "cell_type": "code",
   "execution_count": 27,
   "id": "comic-summit",
   "metadata": {},
   "outputs": [
    {
     "name": "stdout",
     "output_type": "stream",
     "text": [
      "Training for 10000 steps ...\n"
     ]
    },
    {
     "name": "stderr",
     "output_type": "stream",
     "text": [
      "C:\\Users\\User\\.conda\\envs\\tfgpu\\lib\\site-packages\\tensorflow\\python\\keras\\engine\\training.py:2325: UserWarning: `Model.state_updates` will be removed in a future version. This property should not be used in TensorFlow 2.0, as `updates` are applied automatically.\n",
      "  warnings.warn('`Model.state_updates` will be removed in a future version. '\n"
     ]
    },
    {
     "name": "stdout",
     "output_type": "stream",
     "text": [
      "  448/10000: episode: 1, duration: 28.625s, episode steps: 448, steps per second:  16, episode reward: -78.309, mean reward: -0.175 [-7.145, -0.145], mean action: 0.038 [-0.448, 0.801],  loss: --, mae: --, mean_q: --\n",
      "  667/10000: episode: 2, duration: 10.255s, episode steps: 219, steps per second:  21, episode reward: -38.842, mean reward: -0.177 [-7.170,  2.127], mean action: 0.186 [-0.018, 0.544],  loss: --, mae: --, mean_q: --\n"
     ]
    },
    {
     "name": "stderr",
     "output_type": "stream",
     "text": [
      "C:\\Users\\User\\.conda\\envs\\tfgpu\\lib\\site-packages\\tensorflow\\python\\keras\\engine\\training.py:2325: UserWarning: `Model.state_updates` will be removed in a future version. This property should not be used in TensorFlow 2.0, as `updates` are applied automatically.\n",
      "  warnings.warn('`Model.state_updates` will be removed in a future version. '\n"
     ]
    },
    {
     "name": "stdout",
     "output_type": "stream",
     "text": [
      " 1112/10000: episode: 3, duration: 32.186s, episode steps: 445, steps per second:  14, episode reward: -92.339, mean reward: -0.208 [-7.204, -0.160], mean action: -0.101 [-1.366, 0.895],  loss: 0.058512, mae: 0.117949, mean_q: -1.396442\n",
      "Slow!!!\n",
      " 1304/10000: episode: 4, duration: 16.137s, episode steps: 192, steps per second:  12, episode reward: -41.175, mean reward: -0.214 [-7.257,  2.094], mean action: 1.130 [0.733, 1.405],  loss: 0.060189, mae: 0.130493, mean_q: -1.385978\n",
      "Slow!!!\n",
      " 1410/10000: episode: 5, duration: 7.413s, episode steps: 106, steps per second:  14, episode reward: -24.022, mean reward: -0.227 [-7.232,  2.142], mean action: 0.730 [0.658, 0.904],  loss: 0.061004, mae: 0.125241, mean_q: -1.315268\n",
      "Slow!!!\n",
      " 1516/10000: episode: 6, duration: 6.906s, episode steps: 106, steps per second:  15, episode reward: -27.609, mean reward: -0.260 [-7.246, -0.143], mean action: 0.590 [0.455, 0.746],  loss: 0.072385, mae: 0.129566, mean_q: -1.273064\n",
      "Slow!!!\n",
      " 1621/10000: episode: 7, duration: 6.596s, episode steps: 105, steps per second:  16, episode reward: -24.863, mean reward: -0.237 [-7.241,  2.132], mean action: 0.617 [0.318, 0.893],  loss: 0.060596, mae: 0.136426, mean_q: -1.184933\n",
      " 2481/10000: episode: 8, duration: 55.020s, episode steps: 860, steps per second:  16, episode reward: -92.460, mean reward: -0.108 [-7.184,  3.908], mean action: 0.557 [-0.298, 1.288],  loss: 0.072077, mae: 0.130901, mean_q: -1.079536\n",
      " 2910/10000: episode: 9, duration: 27.940s, episode steps: 429, steps per second:  15, episode reward: -71.688, mean reward: -0.167 [-7.142,  2.140], mean action: -0.152 [-1.443, 0.395],  loss: 0.073057, mae: 0.126029, mean_q: -1.007267\n",
      "Slow!!!\n",
      " 3015/10000: episode: 10, duration: 6.536s, episode steps: 105, steps per second:  16, episode reward: -26.009, mean reward: -0.248 [-7.253,  2.118], mean action: 0.849 [0.694, 0.989],  loss: 0.094777, mae: 0.138047, mean_q: -1.046689\n",
      "Slow!!!\n",
      " 3346/10000: episode: 11, duration: 19.625s, episode steps: 331, steps per second:  17, episode reward: -66.806, mean reward: -0.202 [-7.244, -0.141], mean action: 1.024 [0.746, 1.354],  loss: 0.058106, mae: 0.117982, mean_q: -1.044971\n",
      "Slow!!!\n",
      " 3895/10000: episode: 12, duration: 37.534s, episode steps: 549, steps per second:  15, episode reward: -93.484, mean reward: -0.170 [-7.264,  2.146], mean action: -0.405 [-1.584, 0.344],  loss: 0.065950, mae: 0.124251, mean_q: -1.082643\n",
      "Slow!!!\n",
      " 4000/10000: episode: 13, duration: 9.695s, episode steps: 105, steps per second:  11, episode reward: -26.177, mean reward: -0.249 [-7.254,  2.109], mean action: 0.844 [0.775, 0.928],  loss: 0.065977, mae: 0.124322, mean_q: -1.114906\n",
      "Slow!!!\n",
      " 4105/10000: episode: 14, duration: 10.595s, episode steps: 105, steps per second:  10, episode reward: -27.457, mean reward: -0.261 [-7.247, -0.144], mean action: 0.812 [0.709, 0.977],  loss: 0.065259, mae: 0.119797, mean_q: -1.135585\n",
      "Slow!!!\n",
      " 4346/10000: episode: 15, duration: 53.734s, episode steps: 241, steps per second:   4, episode reward: -46.835, mean reward: -0.194 [-7.231,  2.138], mean action: 1.001 [0.852, 1.173],  loss: 0.070780, mae: 0.120055, mean_q: -1.119731\n",
      "Slow!!!\n",
      " 4482/10000: episode: 16, duration: 10.556s, episode steps: 136, steps per second:  13, episode reward: -31.900, mean reward: -0.235 [-7.244, -0.143], mean action: 1.067 [0.901, 1.189],  loss: 0.086035, mae: 0.140537, mean_q: -1.145080\n",
      "Slow!!!\n",
      " 4588/10000: episode: 17, duration: 7.730s, episode steps: 106, steps per second:  14, episode reward: -26.796, mean reward: -0.253 [-7.239, -0.137], mean action: 0.751 [0.529, 1.035],  loss: 0.045091, mae: 0.107465, mean_q: -1.131479\n",
      "Slow!!!\n",
      " 4693/10000: episode: 18, duration: 7.174s, episode steps: 105, steps per second:  15, episode reward: -28.193, mean reward: -0.269 [-7.253, -0.153], mean action: 0.883 [0.771, 1.071],  loss: 0.084201, mae: 0.124561, mean_q: -1.202945\n",
      " 4908/10000: episode: 19, duration: 16.679s, episode steps: 215, steps per second:  13, episode reward: -43.616, mean reward: -0.203 [-7.183, -0.148], mean action: -0.235 [-0.989, 0.322],  loss: 0.078608, mae: 0.123126, mean_q: -1.190417\n",
      "Slow!!!\n",
      " 5092/10000: episode: 20, duration: 13.181s, episode steps: 184, steps per second:  14, episode reward: -41.930, mean reward: -0.228 [-7.245, -0.149], mean action: 0.897 [0.690, 1.017],  loss: 0.081357, mae: 0.129614, mean_q: -1.230176\n",
      " 5307/10000: episode: 21, duration: 16.680s, episode steps: 215, steps per second:  13, episode reward: -47.315, mean reward: -0.220 [-7.205, -0.165], mean action: -0.240 [-1.066, 0.433],  loss: 0.086763, mae: 0.139064, mean_q: -1.243873\n",
      " 5529/10000: episode: 22, duration: 17.632s, episode steps: 222, steps per second:  13, episode reward: -29.646, mean reward: -0.134 [-7.142,  3.859], mean action: 0.006 [-0.668, 0.675],  loss: 0.062679, mae: 0.121900, mean_q: -1.255291\n",
      " 5707/10000: episode: 23, duration: 13.389s, episode steps: 178, steps per second:  13, episode reward: -4.569, mean reward: -0.026 [-7.090,  3.909], mean action: -0.129 [-0.756, 0.309],  loss: 0.088410, mae: 0.131779, mean_q: -1.248210\n",
      " 5937/10000: episode: 24, duration: 23.358s, episode steps: 230, steps per second:  10, episode reward: -37.225, mean reward: -0.162 [-7.139,  2.122], mean action: -0.166 [-0.650, 0.623],  loss: 0.091985, mae: 0.136201, mean_q: -1.299096\n",
      " 6273/10000: episode: 25, duration: 29.737s, episode steps: 336, steps per second:  11, episode reward: -16.507, mean reward: -0.049 [-7.076,  3.918], mean action: 0.015 [-1.063, 0.800],  loss: 0.087840, mae: 0.137266, mean_q: -1.322488\n",
      " 6459/10000: episode: 26, duration: 14.514s, episode steps: 186, steps per second:  13, episode reward: -11.259, mean reward: -0.061 [-7.093,  3.904], mean action: -0.202 [-0.920, 0.579],  loss: 0.084991, mae: 0.146854, mean_q: -1.332191\n",
      " 6617/10000: episode: 27, duration: 12.005s, episode steps: 158, steps per second:  13, episode reward: -21.037, mean reward: -0.133 [-7.140,  3.861], mean action: -0.053 [-1.161, 0.774],  loss: 0.100180, mae: 0.153486, mean_q: -1.335445\n",
      "Outside Range!\n",
      " 7337/10000: episode: 28, duration: 65.697s, episode steps: 720, steps per second:  11, episode reward: -147.036, mean reward: -0.204 [-1.276, -0.134], mean action: -0.037 [-1.248, 1.105],  loss: 0.082556, mae: 0.139658, mean_q: -1.359245\n",
      " 7576/10000: episode: 29, duration: 26.601s, episode steps: 239, steps per second:   9, episode reward: -50.296, mean reward: -0.210 [-7.205, -0.161], mean action: -0.112 [-1.393, 0.734],  loss: 0.090676, mae: 0.141459, mean_q: -1.394120\n",
      " 7733/10000: episode: 30, duration: 19.256s, episode steps: 157, steps per second:   8, episode reward: -30.682, mean reward: -0.195 [-7.166, -0.134], mean action: -0.130 [-1.021, 0.755],  loss: 0.093730, mae: 0.154501, mean_q: -1.400739\n",
      " 8363/10000: episode: 31, duration: 61.146s, episode steps: 630, steps per second:  10, episode reward: -133.307, mean reward: -0.212 [-7.273, -0.140], mean action: -0.053 [-1.179, 1.262],  loss: 0.092812, mae: 0.154069, mean_q: -1.432357\n",
      " 8528/10000: episode: 32, duration: 20.026s, episode steps: 165, steps per second:   8, episode reward: -26.202, mean reward: -0.159 [-7.136,  3.423], mean action: -0.092 [-1.094, 0.680],  loss: 0.099643, mae: 0.159153, mean_q: -1.469832\n",
      " 9093/10000: episode: 33, duration: 64.714s, episode steps: 565, steps per second:   9, episode reward: -109.449, mean reward: -0.194 [-7.204, -0.141], mean action: -0.061 [-0.931, 1.467],  loss: 0.075743, mae: 0.140673, mean_q: -1.485933\n",
      " 9252/10000: episode: 34, duration: 12.996s, episode steps: 159, steps per second:  12, episode reward: -34.582, mean reward: -0.217 [-7.194, -0.161], mean action: -0.002 [-0.905, 1.353],  loss: 0.084138, mae: 0.146661, mean_q: -1.535489\n",
      " 9615/10000: episode: 35, duration: 65.619s, episode steps: 363, steps per second:   6, episode reward: -78.505, mean reward: -0.216 [-7.239, -0.158], mean action: 0.005 [-0.653, 1.122],  loss: 0.077440, mae: 0.140426, mean_q: -1.556369\n",
      "done, took 893.294 seconds\n"
     ]
    }
   ],
   "source": [
    "history = agent.fit(env, nb_steps=10000, visualize=True, verbose=2, nb_max_episode_steps=1000)\n",
    "episode_reward += history.history['episode_reward']"
   ]
  },
  {
   "cell_type": "code",
   "execution_count": 28,
   "id": "unauthorized-invasion",
   "metadata": {},
   "outputs": [
    {
     "data": {
      "text/plain": [
       "[<matplotlib.lines.Line2D at 0x1efc0b17460>]"
      ]
     },
     "execution_count": 28,
     "metadata": {},
     "output_type": "execute_result"
    },
    {
     "data": {
      "image/png": "[encoded data removed]",
      "text/plain": [
       "<Figure size 432x288 with 1 Axes>"
      ]
     },
     "metadata": {
      "needs_background": "light"
     },
     "output_type": "display_data"
    }
   ],
   "source": [
    "plt.plot(episode_reward)"
   ]
  },
  {
   "cell_type": "code",
   "execution_count": 29,
   "id": "speaking-lawyer",
   "metadata": {},
   "outputs": [
    {
     "data": {
      "text/plain": [
       "[<matplotlib.lines.Line2D at 0x1ef954071f0>]"
      ]
     },
     "execution_count": 29,
     "metadata": {},
     "output_type": "execute_result"
    },
    {
     "data": {
      "image/png": "[encoded data removed]",
      "text/plain": [
       "<Figure size 432x288 with 1 Axes>"
      ]
     },
     "metadata": {
      "needs_background": "light"
     },
     "output_type": "display_data"
    }
   ],
   "source": [
    "avg_reward = []\n",
    "sum_reward = 0\n",
    "span = 100\n",
    "for i in range(len(episode_reward)): \n",
    "    if i>=span: sum_reward -= episode_reward[i-span]\n",
    "    sum_reward += episode_reward[i]\n",
    "    if i>=span: avg_reward.append(sum_reward/span)\n",
    "plt.plot(avg_reward)"
   ]
  },
  {
   "cell_type": "code",
   "execution_count": 30,
   "id": "opened-processor",
   "metadata": {},
   "outputs": [
    {
     "data": {
      "text/plain": [
       "[<matplotlib.lines.Line2D at 0x1ef95434be0>]"
      ]
     },
     "execution_count": 30,
     "metadata": {},
     "output_type": "execute_result"
    },
    {
     "data": {
      "image/png": "[encoded data removed]",
      "text/plain": [
       "<Figure size 432x288 with 1 Axes>"
      ]
     },
     "metadata": {
      "needs_background": "light"
     },
     "output_type": "display_data"
    }
   ],
   "source": [
    "avg_reward = []\n",
    "sum_reward = 0\n",
    "span = 50\n",
    "for i in range(len(episode_reward)):\n",
    "    if i>=span: sum_reward -= episode_reward[i-span]\n",
    "    sum_reward += episode_reward[i]\n",
    "    if i>=span: avg_reward.append(sum_reward/span)\n",
    "plt.plot(avg_reward)"
   ]
  },
  {
   "cell_type": "code",
   "execution_count": 31,
   "id": "contemporary-community",
   "metadata": {},
   "outputs": [
    {
     "data": {
      "text/plain": [
       "[<matplotlib.lines.Line2D at 0x1ef9547f4c0>]"
      ]
     },
     "execution_count": 31,
     "metadata": {},
     "output_type": "execute_result"
    },
    {
     "data": {
      "image/png": "[encoded data removed]",
      "text/plain": [
       "<Figure size 432x288 with 1 Axes>"
      ]
     },
     "metadata": {
      "needs_background": "light"
     },
     "output_type": "display_data"
    }
   ],
   "source": [
    "avg_reward = []\n",
    "sum_reward = 0\n",
    "span = 10\n",
    "for i in range(len(episode_reward)):\n",
    "    if i>=span: sum_reward -= episode_reward[i-span]\n",
    "    sum_reward += episode_reward[i]\n",
    "    if i>=span: avg_reward.append(sum_reward/span)\n",
    "plt.plot(avg_reward)"
   ]
  },
  {
   "cell_type": "code",
   "execution_count": null,
   "id": "statewide-crazy",
   "metadata": {},
   "outputs": [],
   "source": [
    "# agent.save_weights('ddpg_{}_weights.h5f'.format('32_3_rays_final'), overwrite=True)\n",
    "# actor.save_weights('actor_32_3_rays_final.h5', overwrite=True) \n",
    "# critic.save_weights('critic_32_3_rays_final.h5', overwrite=True)"
   ]
  },
  {
   "cell_type": "code",
   "execution_count": null,
   "id": "musical-livestock",
   "metadata": {},
   "outputs": [],
   "source": [
    "env.make_obstacles()\n",
    "env.reset()"
   ]
  },
  {
   "cell_type": "code",
   "execution_count": null,
   "id": "nuclear-procedure",
   "metadata": {},
   "outputs": [],
   "source": [
    "p.startStateLogging(p.STATE_LOGGING_VIDEO_MP4, 'C:/Users/User/Desktop/Mars Bike/video.mp4')"
   ]
  },
  {
   "cell_type": "code",
   "execution_count": null,
   "id": "backed-bread",
   "metadata": {},
   "outputs": [],
   "source": [
    "time.sleep(5.)\n",
    "_ = agent.test(env, nb_episodes=10, visualize=True) #, nb_max_episode_steps=1000)"
   ]
  },
  {
   "cell_type": "code",
   "execution_count": null,
   "id": "violent-thailand",
   "metadata": {},
   "outputs": [],
   "source": [
    "p.stopStateLogging(2)"
   ]
  },
  {
   "cell_type": "code",
   "execution_count": null,
   "id": "protected-organ",
   "metadata": {},
   "outputs": [],
   "source": [
    "# actor.save_weights('actor_32_3_rays_final.h5', overwrite=True) \n",
    "# critic.save_weights('critic_32_3_rays_final.h5', overwrite=True)"
   ]
  },
  {
   "cell_type": "code",
   "execution_count": null,
   "id": "extreme-economy",
   "metadata": {},
   "outputs": [],
   "source": [
    "actor.load_weights('actor_32_3_rays_final.h5')\n",
    "critic.load_weights('critic_32_3_rays_final.h5')"
   ]
  },
  {
   "cell_type": "code",
   "execution_count": null,
   "id": "interpreted-orchestra",
   "metadata": {},
   "outputs": [],
   "source": [
    "agent.load_weights('ddpg_{}_weights.h5f'.format('32_3_rays_final'))"
   ]
  },
  {
   "cell_type": "code",
   "execution_count": null,
   "id": "suspended-ethiopia",
   "metadata": {},
   "outputs": [],
   "source": []
  }
 ],
 "metadata": {
  "kernelspec": {
   "display_name": "Python 3",
   "language": "python",
   "name": "python3"
  },
  "language_info": {
   "codemirror_mode": {
    "name": "ipython",
    "version": 3
   },
   "file_extension": ".py",
   "mimetype": "text/x-python",
   "name": "python",
   "nbconvert_exporter": "python",
   "pygments_lexer": "ipython3",
   "version": "0.0.0"
  }
 },
 "nbformat": 4,
 "nbformat_minor": 5
}
